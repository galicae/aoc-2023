{
 "cells": [
  {
   "cell_type": "code",
   "execution_count": 1,
   "metadata": {},
   "outputs": [],
   "source": [
    "def read_input(path):\n",
    "    sequences = []\n",
    "    with open(path, 'r') as f:\n",
    "        for line in f.readlines():\n",
    "            sequences.append([int(x) for x in line.strip().split()])\n",
    "\n",
    "    return sequences"
   ]
  },
  {
   "cell_type": "code",
   "execution_count": 2,
   "metadata": {},
   "outputs": [],
   "source": [
    "seq = read_input(\"data/day09-test.txt\")"
   ]
  },
  {
   "cell_type": "code",
   "execution_count": 3,
   "metadata": {},
   "outputs": [],
   "source": [
    "def pairwise_diff(x):\n",
    "    return [x[i+1] - x[i] for i in range(len(x)-1)]"
   ]
  },
  {
   "cell_type": "code",
   "execution_count": 4,
   "metadata": {},
   "outputs": [],
   "source": [
    "def add_next(x):\n",
    "    diff = pairwise_diff(x)\n",
    "    # print(diff)\n",
    "    if all([d == 0 for d in diff]):\n",
    "        return 0\n",
    "    else:\n",
    "        return diff[-1] + add_next(diff)\n",
    "    \n",
    "def predict_next(x):\n",
    "    return x[-1] + add_next(x)\n",
    "\n",
    "def solve(seq):\n",
    "    result = 0\n",
    "    for s in seq:\n",
    "        result += predict_next(s)\n",
    "    return result"
   ]
  },
  {
   "cell_type": "code",
   "execution_count": 5,
   "metadata": {},
   "outputs": [
    {
     "data": {
      "text/plain": [
       "68"
      ]
     },
     "execution_count": 5,
     "metadata": {},
     "output_type": "execute_result"
    }
   ],
   "source": [
    "predict_next(seq[2])"
   ]
  },
  {
   "cell_type": "code",
   "execution_count": 6,
   "metadata": {},
   "outputs": [
    {
     "data": {
      "text/plain": [
       "114"
      ]
     },
     "execution_count": 6,
     "metadata": {},
     "output_type": "execute_result"
    }
   ],
   "source": [
    "solve(seq)"
   ]
  },
  {
   "cell_type": "code",
   "execution_count": 7,
   "metadata": {},
   "outputs": [
    {
     "data": {
      "text/plain": [
       "1987402313"
      ]
     },
     "execution_count": 7,
     "metadata": {},
     "output_type": "execute_result"
    }
   ],
   "source": [
    "seq = read_input(\"data/day09.txt\")\n",
    "solve(seq)"
   ]
  },
  {
   "cell_type": "code",
   "execution_count": 8,
   "metadata": {},
   "outputs": [
    {
     "name": "stdout",
     "output_type": "stream",
     "text": [
      "[13, 9, 1, 2, 50, 233, 728, 1871, 4300, 9258, 19218, 39107, 78571, 155948, 304911, 585118, 1098671, 2014751, 3605471, 6296784, 10739208]\n"
     ]
    },
    {
     "data": {
      "text/plain": [
       "7164987"
      ]
     },
     "execution_count": 8,
     "metadata": {},
     "output_type": "execute_result"
    }
   ],
   "source": [
    "i = 0\n",
    "print(seq[i])\n",
    "add_next(seq[i])"
   ]
  },
  {
   "cell_type": "code",
   "execution_count": 9,
   "metadata": {},
   "outputs": [],
   "source": [
    "def add_prev(x):\n",
    "    diff = pairwise_diff(x)\n",
    "    # print(diff)\n",
    "    if all([d == 0 for d in diff]):\n",
    "        return 0\n",
    "    else:\n",
    "        return diff[0] - add_prev(diff)\n",
    "    \n",
    "def predict_prev(x):\n",
    "    return x[0] - add_prev(x)\n",
    "\n",
    "def solve(seq):\n",
    "    result = 0\n",
    "    for s in seq:\n",
    "        result += predict_prev(s)\n",
    "    return result"
   ]
  },
  {
   "cell_type": "code",
   "execution_count": 10,
   "metadata": {},
   "outputs": [
    {
     "data": {
      "text/plain": [
       "2"
      ]
     },
     "execution_count": 10,
     "metadata": {},
     "output_type": "execute_result"
    }
   ],
   "source": [
    "seq = read_input(\"data/day09-test.txt\")\n",
    "solve(seq)"
   ]
  },
  {
   "cell_type": "code",
   "execution_count": 11,
   "metadata": {},
   "outputs": [
    {
     "data": {
      "text/plain": [
       "900"
      ]
     },
     "execution_count": 11,
     "metadata": {},
     "output_type": "execute_result"
    }
   ],
   "source": [
    "seq = read_input(\"data/day09.txt\")\n",
    "solve(seq)"
   ]
  },
  {
   "cell_type": "code",
   "execution_count": null,
   "metadata": {},
   "outputs": [],
   "source": []
  }
 ],
 "metadata": {
  "kernelspec": {
   "display_name": "prospr",
   "language": "python",
   "name": "python3"
  },
  "language_info": {
   "codemirror_mode": {
    "name": "ipython",
    "version": 3
   },
   "file_extension": ".py",
   "mimetype": "text/x-python",
   "name": "python",
   "nbconvert_exporter": "python",
   "pygments_lexer": "ipython3",
   "version": "3.10.6"
  }
 },
 "nbformat": 4,
 "nbformat_minor": 2
}
