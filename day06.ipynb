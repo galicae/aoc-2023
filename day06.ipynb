{
 "cells": [
  {
   "cell_type": "code",
   "execution_count": 1,
   "metadata": {},
   "outputs": [],
   "source": [
    "def read_input(handle):\n",
    "    time = []\n",
    "    dist = []\n",
    "    with open(handle, \"r\") as races:\n",
    "        for line in races.readlines():\n",
    "            split = line.replace(\"\\s+\", \" \").split()[1:]\n",
    "            if line.startswith(\"Time\"):\n",
    "                time = [int(x) for x in split]\n",
    "            else:\n",
    "                dist = [int(x) for x in split]\n",
    "    return time, dist"
   ]
  },
  {
   "cell_type": "code",
   "execution_count": 6,
   "metadata": {},
   "outputs": [],
   "source": [
    "from tqdm import tqdm"
   ]
  },
  {
   "cell_type": "code",
   "execution_count": 7,
   "metadata": {},
   "outputs": [],
   "source": [
    "def beat_race(total_time, record_distance):\n",
    "    winning_strategies = 0\n",
    "    distances = []\n",
    "    for button_press in tqdm(range(total_time+1)):\n",
    "        v = button_press\n",
    "        travel_time = total_time - button_press\n",
    "        dist = v * travel_time\n",
    "        distances.append(dist)\n",
    "        if dist > record_distance:\n",
    "            winning_strategies += 1\n",
    "    return distances, winning_strategies"
   ]
  },
  {
   "cell_type": "code",
   "execution_count": 3,
   "metadata": {},
   "outputs": [],
   "source": [
    "def product(array):\n",
    "    result = 1\n",
    "    for num in array:\n",
    "        result *= num\n",
    "    return result"
   ]
  },
  {
   "cell_type": "code",
   "execution_count": 4,
   "metadata": {},
   "outputs": [
    {
     "data": {
      "text/plain": [
       "288"
      ]
     },
     "execution_count": 4,
     "metadata": {},
     "output_type": "execute_result"
    }
   ],
   "source": [
    "times, records = read_input(\"data/day06-test.txt\")\n",
    "winning_combinations = []\n",
    "for t, record in zip(times, records):\n",
    "    _, w = beat_race(t, record)\n",
    "    winning_combinations.append(w)\n",
    "\n",
    "product(winning_combinations)"
   ]
  },
  {
   "cell_type": "code",
   "execution_count": 5,
   "metadata": {},
   "outputs": [
    {
     "data": {
      "text/plain": [
       "512295"
      ]
     },
     "execution_count": 5,
     "metadata": {},
     "output_type": "execute_result"
    }
   ],
   "source": [
    "times, records = read_input(\"data/day06.txt\")\n",
    "winning_combinations = []\n",
    "for t, record in zip(times, records):\n",
    "    _, w = beat_race(t, record)\n",
    "    winning_combinations.append(w)\n",
    "\n",
    "product(winning_combinations)"
   ]
  },
  {
   "cell_type": "code",
   "execution_count": 8,
   "metadata": {},
   "outputs": [
    {
     "name": "stderr",
     "output_type": "stream",
     "text": [
      "100%|██████████| 46807867/46807867 [00:05<00:00, 8808885.91it/s]\n"
     ]
    }
   ],
   "source": [
    "real_time = 46807866\n",
    "real_record = 214117714021024\n",
    "_, w = beat_race(real_time, real_record)"
   ]
  },
  {
   "cell_type": "code",
   "execution_count": 9,
   "metadata": {},
   "outputs": [
    {
     "data": {
      "text/plain": [
       "36530883"
      ]
     },
     "execution_count": 9,
     "metadata": {},
     "output_type": "execute_result"
    }
   ],
   "source": [
    "w"
   ]
  }
 ],
 "metadata": {
  "kernelspec": {
   "display_name": "decode",
   "language": "python",
   "name": "python3"
  },
  "language_info": {
   "codemirror_mode": {
    "name": "ipython",
    "version": 3
   },
   "file_extension": ".py",
   "mimetype": "text/x-python",
   "name": "python",
   "nbconvert_exporter": "python",
   "pygments_lexer": "ipython3",
   "version": "3.11.5"
  }
 },
 "nbformat": 4,
 "nbformat_minor": 2
}
