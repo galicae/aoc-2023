{
 "cells": [
  {
   "cell_type": "code",
   "execution_count": 1,
   "metadata": {},
   "outputs": [],
   "source": [
    "CARDS = [\"A\", \"K\", \"Q\", \"J\", \"T\", \"9\", \"8\", \"7\", \"6\", \"5\", \"4\", \"3\", \"2\"]\n",
    "alphabet = \"ABCDEFGHIJKLMNOPQRSTUVWXYZ\"\n",
    "VALUES = {card: alphabet[score] for score, card in enumerate(CARDS[::-1])}"
   ]
  },
  {
   "cell_type": "code",
   "execution_count": 2,
   "metadata": {},
   "outputs": [],
   "source": [
    "def count_cards(hand):\n",
    "    return {card: hand.count(card) for card in CARDS}\n",
    "\n",
    "def order_hands(hands, deck_length=13):\n",
    "    buckets = {\n",
    "        1: [],\n",
    "        2: [],\n",
    "        3: [],\n",
    "        4: [],\n",
    "        5: [],\n",
    "        6: [],\n",
    "        7: [],\n",
    "    }\n",
    "    for hand in hands:\n",
    "        breakdown = count_cards(hand)\n",
    "        # Five of a kind, where all five cards have the same label\n",
    "        if len(set(hand)) == 1:\n",
    "            buckets[7].append(hand)\n",
    "        # Four of a kind, where four cards have the same label and one card has a different label: AA8AA\n",
    "        if max(breakdown.values()) == 4:\n",
    "            buckets[6].append(hand)\n",
    "        # Full house, where three cards have the same label, and the remaining two cards share a different label: 23332\n",
    "        if sorted(breakdown.values()) == [0]*11 + [2, 3]:\n",
    "            buckets[5].append(hand)\n",
    "        # Three of a kind, where three cards have the same label, and the remaining two cards are each different from any other card in the hand: TTT98\n",
    "        if sorted(breakdown.values()) == [0]*10 + [1, 1, 3]:\n",
    "            buckets[4].append(hand)\n",
    "        # Two pair, where two cards share one label, two other cards share a second label, and the remaining card has a third label: 23432\n",
    "        if sorted(breakdown.values()) == [0]*10 + [1, 2, 2]:\n",
    "            buckets[3].append(hand)\n",
    "        # One pair, where two cards share one label, and the other three cards have a different label from the pair and each other: A23A4\n",
    "        if sorted(breakdown.values()) == [0]*9 + [1, 1, 1, 2]:\n",
    "            buckets[2].append(hand)\n",
    "        # High card, where all cards' labels are distinct: 23456\n",
    "        if len(set(hand)) == 5:\n",
    "            buckets[1].append(hand)\n",
    "    return buckets\n",
    "\n",
    "def translate_hand(hand):\n",
    "    return \"\".join([str(VALUES[card]) for card in hand])\n",
    "\n",
    "def argsort(seq):\n",
    "    # http://stackoverflow.com/questions/3071415/efficient-method-to-calculate-the-rank-vector-of-a-list-in-python\n",
    "    return sorted(range(len(seq)), key=seq.__getitem__)\n",
    "\n",
    "def break_tie(hands):\n",
    "    translated = [translate_hand(hand) for hand in hands]\n",
    "    order = argsort(translated)\n",
    "    return [hands[i] for i in order]\n",
    "\n",
    "def final_order(buckets):\n",
    "    final = []\n",
    "    for priority in range(1, 8):\n",
    "        bucket = buckets[priority]\n",
    "        sorted = break_tie(bucket)\n",
    "        final.extend(sorted)\n",
    "    return final"
   ]
  },
  {
   "cell_type": "code",
   "execution_count": 3,
   "metadata": {},
   "outputs": [
    {
     "data": {
      "text/plain": [
       "<function sorted(iterable, /, *, key=None, reverse=False)>"
      ]
     },
     "execution_count": 3,
     "metadata": {},
     "output_type": "execute_result"
    }
   ],
   "source": [
    "sorted"
   ]
  },
  {
   "cell_type": "code",
   "execution_count": 4,
   "metadata": {},
   "outputs": [],
   "source": [
    "hands = {\n",
    "'32T3K': 765,\n",
    "'T55J5': 684,\n",
    "'KK677': 28,\n",
    "'KTJJT': 220,\n",
    "'QQQJA': 483,\n",
    "}"
   ]
  },
  {
   "cell_type": "code",
   "execution_count": 5,
   "metadata": {},
   "outputs": [
    {
     "data": {
      "text/plain": [
       "6440"
      ]
     },
     "execution_count": 5,
     "metadata": {},
     "output_type": "execute_result"
    }
   ],
   "source": [
    "buckets = order_hands(hands.keys())\n",
    "final = final_order(buckets)\n",
    "winnings = 0\n",
    "for rank, hand in enumerate(final):\n",
    "    winnings += hands[hand] * (rank + 1)\n",
    "winnings"
   ]
  },
  {
   "cell_type": "code",
   "execution_count": 6,
   "metadata": {},
   "outputs": [],
   "source": [
    "hands = {}\n",
    "with open(\"data/day07.txt\", \"r\") as f:\n",
    "    for line in f.readlines():\n",
    "        hand, bid = line.split()\n",
    "        hands[hand] = int(bid)"
   ]
  },
  {
   "cell_type": "code",
   "execution_count": 7,
   "metadata": {},
   "outputs": [
    {
     "data": {
      "text/plain": [
       "245794640"
      ]
     },
     "execution_count": 7,
     "metadata": {},
     "output_type": "execute_result"
    }
   ],
   "source": [
    "buckets = order_hands(hands.keys())\n",
    "final = final_order(buckets)\n",
    "winnings = 0\n",
    "for rank, hand in enumerate(final):\n",
    "    winnings += hands[hand] * (rank + 1)\n",
    "winnings"
   ]
  },
  {
   "cell_type": "code",
   "execution_count": 8,
   "metadata": {},
   "outputs": [],
   "source": [
    "CARDS = [\"A\", \"K\", \"Q\", \"T\", \"9\", \"8\", \"7\", \"6\", \"5\", \"4\", \"3\", \"2\", \"J\"]\n",
    "alphabet = \"ABCDEFGHIJKLMNOPQRSTUVWXYZ\"\n",
    "VALUES = {card: alphabet[score] for score, card in enumerate(CARDS[::-1])}"
   ]
  },
  {
   "cell_type": "code",
   "execution_count": 9,
   "metadata": {},
   "outputs": [],
   "source": [
    "def count_cards(hand):\n",
    "    return {card: hand.count(card) for card in CARDS}\n",
    "\n",
    "def order_hands(hands, deck_length=13):\n",
    "    buckets = {\n",
    "        1: [],\n",
    "        2: [],\n",
    "        3: [],\n",
    "        4: [],\n",
    "        5: [],\n",
    "        6: [],\n",
    "        7: [],\n",
    "    }\n",
    "    for hand in hands:\n",
    "        breakdown = count_cards(hand)\n",
    "        if \"J\" not in hand:\n",
    "            # Five of a kind, where all five cards have the same label\n",
    "            if len(set(hand)) == 1:\n",
    "                buckets[7].append(hand)\n",
    "            # Four of a kind, where four cards have the same label and one card has a different label: AA8AA\n",
    "            if max(breakdown.values()) == 4:\n",
    "                buckets[6].append(hand)\n",
    "            # Full house, where three cards have the same label, and the remaining two cards share a different label: 23332\n",
    "            if sorted(breakdown.values()) == [0]*11 + [2, 3]:\n",
    "                buckets[5].append(hand)\n",
    "            # Three of a kind, where three cards have the same label, and the remaining two cards are each different from any other card in the hand: TTT98\n",
    "            if sorted(breakdown.values()) == [0]*10 + [1, 1, 3]:\n",
    "                buckets[4].append(hand)\n",
    "            # Two pair, where two cards share one label, two other cards share a second label, and the remaining card has a third label: 23432\n",
    "            if sorted(breakdown.values()) == [0]*10 + [1, 2, 2]:\n",
    "                buckets[3].append(hand)\n",
    "            # One pair, where two cards share one label, and the other three cards have a different label from the pair and each other: A23A4\n",
    "            if sorted(breakdown.values()) == [0]*9 + [1, 1, 1, 2]:\n",
    "                buckets[2].append(hand)\n",
    "            # High card, where all cards' labels are distinct: 23456\n",
    "            if len(set(hand)) == 5:\n",
    "                buckets[1].append(hand)\n",
    "        else:\n",
    "            jhand = hand.replace(\"J\", \"\")\n",
    "            breakdown = count_cards(hand)\n",
    "            breakdown = sorted(breakdown.values())\n",
    "            if len(jhand) < 2: #JJJJX or JJJJJ\n",
    "                buckets[7].append(hand)\n",
    "            elif len(jhand) == 2:\n",
    "                if len(set(jhand)) == 1: #JJJXX\n",
    "                    buckets[7].append(hand)\n",
    "                else: #JJJXY\n",
    "                    buckets[6].append(hand)\n",
    "            elif len(jhand) == 3: \n",
    "                if len(set(jhand)) == 1: #JJXXX\n",
    "                    buckets[7].append(hand)\n",
    "                elif len(set(jhand)) == 2: #JJXXY\n",
    "                    buckets[6].append(hand)\n",
    "                else: #JJXYZ\n",
    "                    buckets[4].append(hand)\n",
    "            elif len(jhand) == 4:\n",
    "                if breakdown[-1] == 4: #JXXXX\n",
    "                    buckets[7].append(hand)\n",
    "                elif breakdown[-1] == 3: #JXXXY\n",
    "                    buckets[6].append(hand)\n",
    "                elif breakdown[-1] == 2: #JXX??\n",
    "                    if breakdown[-2] == 2: #JXXYY\n",
    "                        buckets[5].append(hand)\n",
    "                    else: #JXXYZ\n",
    "                        buckets[4].append(hand)\n",
    "                else: #JXYZW\n",
    "                    buckets[2].append(hand)\n",
    "            else:\n",
    "                print(\"ERROR\", hand)\n",
    "    return buckets"
   ]
  },
  {
   "cell_type": "code",
   "execution_count": 10,
   "metadata": {},
   "outputs": [],
   "source": [
    "hands = {\n",
    "'32T3K': 765,\n",
    "'T55J5': 684,\n",
    "'KK677': 28,\n",
    "'KTJJT': 220,\n",
    "'QQQJA': 483,\n",
    "}"
   ]
  },
  {
   "cell_type": "code",
   "execution_count": 11,
   "metadata": {},
   "outputs": [
    {
     "data": {
      "text/plain": [
       "5905"
      ]
     },
     "execution_count": 11,
     "metadata": {},
     "output_type": "execute_result"
    }
   ],
   "source": [
    "buckets = order_hands(hands.keys())\n",
    "final = final_order(buckets)\n",
    "winnings = 0\n",
    "for rank, hand in enumerate(final):\n",
    "    winnings += hands[hand] * (rank + 1)\n",
    "winnings"
   ]
  },
  {
   "cell_type": "code",
   "execution_count": 12,
   "metadata": {},
   "outputs": [],
   "source": [
    "hands = {}\n",
    "with open(\"data/day07.txt\", \"r\") as f:\n",
    "    for line in f.readlines():\n",
    "        hand, bid = line.split()\n",
    "        hands[hand] = int(bid)"
   ]
  },
  {
   "cell_type": "code",
   "execution_count": 13,
   "metadata": {},
   "outputs": [
    {
     "data": {
      "text/plain": [
       "247899149"
      ]
     },
     "execution_count": 13,
     "metadata": {},
     "output_type": "execute_result"
    }
   ],
   "source": [
    "buckets = order_hands(hands.keys())\n",
    "final = final_order(buckets)\n",
    "winnings = 0\n",
    "for rank, hand in enumerate(final):\n",
    "    winnings += hands[hand] * (rank + 1)\n",
    "winnings"
   ]
  }
 ],
 "metadata": {
  "kernelspec": {
   "display_name": "prospr",
   "language": "python",
   "name": "python3"
  },
  "language_info": {
   "codemirror_mode": {
    "name": "ipython",
    "version": 3
   },
   "file_extension": ".py",
   "mimetype": "text/x-python",
   "name": "python",
   "nbconvert_exporter": "python",
   "pygments_lexer": "ipython3",
   "version": "3.10.6"
  }
 },
 "nbformat": 4,
 "nbformat_minor": 2
}
