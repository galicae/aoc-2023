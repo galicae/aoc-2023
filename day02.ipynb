{
 "cells": [
  {
   "cell_type": "code",
   "execution_count": 1,
   "metadata": {},
   "outputs": [],
   "source": [
    "with open(\"./data/day02-test.txt\", \"r\") as f:\n",
    "    games = f.read().split(\"\\n\")"
   ]
  },
  {
   "cell_type": "code",
   "execution_count": 2,
   "metadata": {},
   "outputs": [],
   "source": [
    "def read_game(game):\n",
    "    result = []\n",
    "    game = game.split(\":\")\n",
    "    game_id = game[0].split()[1]\n",
    "    shows = game[1].split(\";\")\n",
    "    for i, show in enumerate(shows):\n",
    "        result.append({\"blue\": 0, \"red\": 0, \"green\": 0})\n",
    "        for draw in show.split(\",\"):\n",
    "            count, color = draw.strip().split(\" \")\n",
    "            result[i][color] = int(count)\n",
    "    return game_id, result\n",
    "\n",
    "def is_allowed(game, max_allowed):\n",
    "    for show in game:\n",
    "        for color, count in show.items():\n",
    "            if count > max_allowed[color]:\n",
    "                return False\n",
    "    return True"
   ]
  },
  {
   "cell_type": "code",
   "execution_count": 3,
   "metadata": {},
   "outputs": [
    {
     "data": {
      "text/plain": [
       "'Game 1: 3 blue, 4 red; 1 red, 2 green, 6 blue; 2 green'"
      ]
     },
     "execution_count": 3,
     "metadata": {},
     "output_type": "execute_result"
    }
   ],
   "source": [
    "games[0]"
   ]
  },
  {
   "cell_type": "code",
   "execution_count": 4,
   "metadata": {},
   "outputs": [
    {
     "name": "stdout",
     "output_type": "stream",
     "text": [
      "8\n"
     ]
    }
   ],
   "source": [
    "max_allowed = {\"blue\": 14, \"red\": 12, \"green\": 13}\n",
    "id_sum = 0\n",
    "for game in games:\n",
    "    game_id, game = read_game(game)\n",
    "    if is_allowed(game, max_allowed):\n",
    "        id_sum += int(game_id)\n",
    "\n",
    "print(id_sum)"
   ]
  },
  {
   "cell_type": "code",
   "execution_count": 5,
   "metadata": {},
   "outputs": [],
   "source": [
    "with open(\"./data/day02.txt\", \"r\") as f:\n",
    "    games = f.read().split(\"\\n\")"
   ]
  },
  {
   "cell_type": "code",
   "execution_count": 6,
   "metadata": {},
   "outputs": [
    {
     "name": "stdout",
     "output_type": "stream",
     "text": [
      "2416\n"
     ]
    }
   ],
   "source": [
    "max_allowed = {\"blue\": 14, \"red\": 12, \"green\": 13}\n",
    "id_sum = 0\n",
    "for game in games:\n",
    "    game_id, game = read_game(game)\n",
    "    if is_allowed(game, max_allowed):\n",
    "        id_sum += int(game_id)\n",
    "\n",
    "print(id_sum)"
   ]
  },
  {
   "cell_type": "markdown",
   "metadata": {},
   "source": [
    "## part 2\n",
    "\n",
    "calculating the minima"
   ]
  },
  {
   "cell_type": "code",
   "execution_count": 7,
   "metadata": {},
   "outputs": [],
   "source": [
    "with open(\"./data/day02-test.txt\", \"r\") as f:\n",
    "    games = f.read().split(\"\\n\")"
   ]
  },
  {
   "cell_type": "code",
   "execution_count": 8,
   "metadata": {},
   "outputs": [],
   "source": [
    "for game in games:\n",
    "    game_id, game = read_game(game)"
   ]
  },
  {
   "cell_type": "code",
   "execution_count": 9,
   "metadata": {},
   "outputs": [
    {
     "data": {
      "text/plain": [
       "[{'blue': 1, 'red': 6, 'green': 3}, {'blue': 2, 'red': 1, 'green': 2}]"
      ]
     },
     "execution_count": 9,
     "metadata": {},
     "output_type": "execute_result"
    }
   ],
   "source": [
    "game"
   ]
  },
  {
   "cell_type": "code",
   "execution_count": 10,
   "metadata": {},
   "outputs": [],
   "source": [
    "def power(game):\n",
    "    result = {\"blue\": 0, \"red\": 0, \"green\": 0}\n",
    "    game = game.split(\":\")\n",
    "    game_id = game[0].split()[1]\n",
    "    shows = game[1].split(\";\")\n",
    "    for i, show in enumerate(shows):\n",
    "        for draw in show.split(\",\"):\n",
    "            count, color = draw.strip().split(\" \")\n",
    "            if result[color] < int(count):\n",
    "                result[color] = int(count)\n",
    "    return result[\"blue\"] * result[\"red\"] * result[\"green\"]"
   ]
  },
  {
   "cell_type": "code",
   "execution_count": 11,
   "metadata": {},
   "outputs": [
    {
     "name": "stdout",
     "output_type": "stream",
     "text": [
      "2286\n"
     ]
    }
   ],
   "source": [
    "total_power = 0\n",
    "for game in games:\n",
    "    game_power = power(game)\n",
    "    total_power += game_power\n",
    "\n",
    "print(total_power)"
   ]
  },
  {
   "cell_type": "code",
   "execution_count": 12,
   "metadata": {},
   "outputs": [],
   "source": [
    "with open(\"./data/day02.txt\", \"r\") as f:\n",
    "    games = f.read().split(\"\\n\")"
   ]
  },
  {
   "cell_type": "code",
   "execution_count": 13,
   "metadata": {},
   "outputs": [
    {
     "name": "stdout",
     "output_type": "stream",
     "text": [
      "63307\n"
     ]
    }
   ],
   "source": [
    "total_power = 0\n",
    "for game in games:\n",
    "    game_power = power(game)\n",
    "    total_power += game_power\n",
    "\n",
    "print(total_power)"
   ]
  }
 ],
 "metadata": {
  "kernelspec": {
   "display_name": "prospr",
   "language": "python",
   "name": "python3"
  },
  "language_info": {
   "codemirror_mode": {
    "name": "ipython",
    "version": 3
   },
   "file_extension": ".py",
   "mimetype": "text/x-python",
   "name": "python",
   "nbconvert_exporter": "python",
   "pygments_lexer": "ipython3",
   "version": "3.10.6"
  }
 },
 "nbformat": 4,
 "nbformat_minor": 2
}
