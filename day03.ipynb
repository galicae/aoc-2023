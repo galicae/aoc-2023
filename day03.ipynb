{
 "cells": [
  {
   "cell_type": "code",
   "execution_count": 1,
   "metadata": {},
   "outputs": [],
   "source": [
    "import copy"
   ]
  },
  {
   "cell_type": "code",
   "execution_count": 2,
   "metadata": {},
   "outputs": [],
   "source": [
    "with open(\"./data/day03-test.txt\", \"r\") as f:\n",
    "    schematics = f.read().splitlines()"
   ]
  },
  {
   "cell_type": "code",
   "execution_count": 3,
   "metadata": {},
   "outputs": [
    {
     "data": {
      "text/plain": [
       "['467..114..',\n",
       " '...*......',\n",
       " '..35..633.',\n",
       " '......#...',\n",
       " '617*......',\n",
       " '.....+.58.',\n",
       " '..592.....',\n",
       " '......755.',\n",
       " '...$.*....',\n",
       " '.664.598..']"
      ]
     },
     "execution_count": 3,
     "metadata": {},
     "output_type": "execute_result"
    }
   ],
   "source": [
    "schematics"
   ]
  },
  {
   "cell_type": "code",
   "execution_count": 4,
   "metadata": {},
   "outputs": [],
   "source": [
    "def read_numbers(schematics):\n",
    "    # replace all digits with an increasing index\n",
    "    numbers = []\n",
    "    for i, line in enumerate(schematics):\n",
    "        numbers.append([])\n",
    "        for j, char in enumerate(line):\n",
    "            if char.isdigit():\n",
    "                numbers[i].append(1)\n",
    "            else:\n",
    "                numbers[i].append(0)\n",
    "\n",
    "    return numbers\n"
   ]
  },
  {
   "cell_type": "code",
   "execution_count": 5,
   "metadata": {},
   "outputs": [],
   "source": [
    "def read_symbols(schematics):\n",
    "    # replace all symbols with 1\n",
    "    symbols = []\n",
    "    for i, line in enumerate(schematics):\n",
    "        symbols.append([])\n",
    "        for j, char in enumerate(line):\n",
    "            if char.isdigit():\n",
    "                symbols[i].append(0)\n",
    "            elif char == \".\":\n",
    "                symbols[i].append(0)\n",
    "            else:\n",
    "                symbols[i].append(1)\n",
    "    return symbols"
   ]
  },
  {
   "cell_type": "code",
   "execution_count": 6,
   "metadata": {},
   "outputs": [],
   "source": [
    "def read_gears(schematics):\n",
    "    # replace all symbols with 1\n",
    "    symbols = []\n",
    "    for i, line in enumerate(schematics):\n",
    "        symbols.append([])\n",
    "        for j, char in enumerate(line):\n",
    "            if char == \"*\":\n",
    "                symbols[i].append(1)\n",
    "            else:\n",
    "                symbols[i].append(0)\n",
    "    return symbols"
   ]
  },
  {
   "cell_type": "code",
   "execution_count": 7,
   "metadata": {},
   "outputs": [],
   "source": [
    "def check_neighborhood(field, i, j):\n",
    "    # check if there are numbers adjacent\n",
    "    for ii in range(i-1, i+2):\n",
    "        for jj in range(j-1, j+2):\n",
    "            # print(ii, jj)\n",
    "            if ii >= 0 and ii < len(field) and jj >= 0 and jj < len(field[i]):\n",
    "                if field[ii][jj] > 0:\n",
    "                    field[ii][jj] *= -1\n",
    "\n",
    "def check_adjacency(numbers, symbols):\n",
    "    adjacent = copy.deepcopy(numbers)\n",
    "    # change all numbers that are adjacent to a symbol to 2\n",
    "    for i, line in enumerate(adjacent):\n",
    "        for j, _num in enumerate(line):\n",
    "            if symbols[i][j] > 0:\n",
    "                check_neighborhood(adjacent, i, j)\n",
    "\n",
    "    return adjacent\n",
    "\n",
    "# for each line in numbers, replace contiguous 1s with an ascending index\n",
    "def index_contiguous(numbers):\n",
    "    # replace all contiguous 1s with an increasing index\n",
    "    counter = 1\n",
    "    for i, line in enumerate(numbers):\n",
    "        j_from = -1\n",
    "        for j, num in enumerate(line):\n",
    "            if num == 1:\n",
    "                if j_from < 0:\n",
    "                    j_from = j\n",
    "            elif num == 0 or j == len(line) - 1:\n",
    "                if j_from == -1:\n",
    "                    continue\n",
    "                for jj in range(j_from, j):\n",
    "                    numbers[i][jj] = counter\n",
    "                counter += 1\n",
    "                j_from = -1\n",
    "\n",
    "def propagate(numbers, i, j):\n",
    "    for jj in range(j, len(numbers[i])):\n",
    "        if numbers[i][jj] == 0:\n",
    "            break\n",
    "        numbers[i][jj] = numbers[i][j]\n",
    "    for jj in range(j, -1, -1):\n",
    "        if numbers[i][jj] == 0:\n",
    "            break\n",
    "        numbers[i][jj] = numbers[i][j]\n",
    "\n",
    "def sign_contiguous(numbers):\n",
    "    counter = 1\n",
    "    for i, line in enumerate(numbers):\n",
    "        for j, num in enumerate(line):\n",
    "            if num < 0:\n",
    "                propagate(numbers, i, j)\n",
    "\n",
    "# def check_gear_neighborhood(field, i, j):\n",
    "#     # check if there are exactly two numbers adjacent\n",
    "#     numbers_seen = 1\n",
    "#     for ii in range(i-1, i+2):\n",
    "#         for jj in range(j-1, j+2):\n",
    "#             # print(ii, jj)\n",
    "#             if ii >= 0 and ii < len(field) and jj >= 0 and jj < len(field[i]):\n",
    "#                 if field[ii][jj] == 1:\n",
    "#                     field[ii][jj] = -1 * numbers_seen\n",
    "#                     convert_row(field, ii, jj, -1 * numbers_seen)\n",
    "#                     numbers_seen += 1"
   ]
  },
  {
   "cell_type": "code",
   "execution_count": 24,
   "metadata": {},
   "outputs": [],
   "source": [
    "numbers = read_numbers(schematics)\n",
    "index_contiguous(numbers)\n",
    "symbols = read_symbols(schematics)\n",
    "gears = read_gears(schematics)\n",
    "\n",
    "adjacent_symbols = check_adjacency(numbers, symbols)\n",
    "sign_contiguous(adjacent_symbols)\n",
    "\n",
    "adjacent_gears = check_adjacency(numbers, gears)\n",
    "sign_contiguous(adjacent_gears)"
   ]
  },
  {
   "cell_type": "code",
   "execution_count": 40,
   "metadata": {},
   "outputs": [],
   "source": [
    "def pick_engine_parts(schematics, adjacent):\n",
    "    engine_parts = []\n",
    "    for i, line in enumerate(schematics):\n",
    "        number = \"\"\n",
    "        for j, char in enumerate(line):\n",
    "            # print(i,j)\n",
    "            if adjacent[i][j] < 0:\n",
    "                number += char\n",
    "            elif adjacent[i][j] == 0 and number != \"\":\n",
    "                engine_parts.append(int(number))\n",
    "                number = \"\"\n",
    "            else:\n",
    "                number = \"\"\n",
    "        if number != \"\":\n",
    "            engine_parts.append(int(number))\n",
    "    return engine_parts"
   ]
  },
  {
   "cell_type": "code",
   "execution_count": 41,
   "metadata": {},
   "outputs": [
    {
     "data": {
      "text/plain": [
       "[[-1, -1, -1, 0, 0, 2, 2, 2, 0, 0],\n",
       " [0, 0, 0, 0, 0, 0, 0, 0, 0, 0],\n",
       " [0, 0, -3, -3, 0, 0, -4, -4, -4, 0],\n",
       " [0, 0, 0, 0, 0, 0, 0, 0, 0, 0],\n",
       " [-5, -5, -5, 0, 0, 0, 0, 0, 0, 0],\n",
       " [0, 0, 0, 0, 0, 0, 0, 6, 6, 0],\n",
       " [0, 0, -7, -7, -7, 0, 0, 0, 0, 0],\n",
       " [0, 0, 0, 0, 0, 0, -8, -8, -8, 0],\n",
       " [0, 0, 0, 0, 0, 0, 0, 0, 0, 0],\n",
       " [0, -9, -9, -9, 0, -10, -10, -10, 0, 0]]"
      ]
     },
     "execution_count": 41,
     "metadata": {},
     "output_type": "execute_result"
    }
   ],
   "source": [
    "adjacent_symbols"
   ]
  },
  {
   "cell_type": "code",
   "execution_count": 42,
   "metadata": {},
   "outputs": [
    {
     "data": {
      "text/plain": [
       "4361"
      ]
     },
     "execution_count": 42,
     "metadata": {},
     "output_type": "execute_result"
    }
   ],
   "source": [
    "engine_parts = pick_engine_parts(schematics, adjacent_symbols)\n",
    "sum(engine_parts)"
   ]
  },
  {
   "cell_type": "code",
   "execution_count": 46,
   "metadata": {},
   "outputs": [],
   "source": [
    "def solve(schematics):\n",
    "    numbers = read_numbers(schematics)\n",
    "    index_contiguous(numbers)\n",
    "    symbols = read_symbols(schematics)\n",
    "    gears = read_gears(schematics)\n",
    "\n",
    "    adjacent_symbols = check_adjacency(numbers, symbols)\n",
    "    sign_contiguous(adjacent_symbols)\n",
    "    engine_parts = pick_engine_parts(schematics, adjacent_symbols)\n",
    "    return sum(engine_parts)"
   ]
  },
  {
   "cell_type": "code",
   "execution_count": 47,
   "metadata": {},
   "outputs": [],
   "source": [
    "with open(\"./data/day03.txt\", \"r\") as f:\n",
    "    schematics = f.read().splitlines()"
   ]
  },
  {
   "cell_type": "code",
   "execution_count": 48,
   "metadata": {},
   "outputs": [
    {
     "data": {
      "text/plain": [
       "529618"
      ]
     },
     "execution_count": 48,
     "metadata": {},
     "output_type": "execute_result"
    }
   ],
   "source": [
    "solve(schematics)"
   ]
  }
 ],
 "metadata": {
  "kernelspec": {
   "display_name": "prospr",
   "language": "python",
   "name": "python3"
  },
  "language_info": {
   "codemirror_mode": {
    "name": "ipython",
    "version": 3
   },
   "file_extension": ".py",
   "mimetype": "text/x-python",
   "name": "python",
   "nbconvert_exporter": "python",
   "pygments_lexer": "ipython3",
   "version": "3.10.6"
  }
 },
 "nbformat": 4,
 "nbformat_minor": 2
}
