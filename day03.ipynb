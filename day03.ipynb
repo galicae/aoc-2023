{
 "cells": [
  {
   "cell_type": "code",
   "execution_count": 1,
   "metadata": {},
   "outputs": [],
   "source": [
    "import copy"
   ]
  },
  {
   "cell_type": "code",
   "execution_count": 2,
   "metadata": {},
   "outputs": [],
   "source": [
    "with open(\"./data/day03-test.txt\", \"r\") as f:\n",
    "    schematics = f.read().splitlines()"
   ]
  },
  {
   "cell_type": "code",
   "execution_count": 3,
   "metadata": {},
   "outputs": [
    {
     "data": {
      "text/plain": [
       "['467..114..',\n",
       " '...*......',\n",
       " '..35..633.',\n",
       " '......#...',\n",
       " '617*......',\n",
       " '.....+.58.',\n",
       " '..592.....',\n",
       " '......755.',\n",
       " '...$.*....',\n",
       " '.664.598..']"
      ]
     },
     "execution_count": 3,
     "metadata": {},
     "output_type": "execute_result"
    }
   ],
   "source": [
    "schematics"
   ]
  },
  {
   "cell_type": "code",
   "execution_count": 4,
   "metadata": {},
   "outputs": [],
   "source": [
    "def read_numbers(schematics):\n",
    "    # replace all digits with 1\n",
    "    numbers = []\n",
    "    for i, line in enumerate(schematics):\n",
    "        numbers.append([])\n",
    "        for j, char in enumerate(line):\n",
    "            if char.isdigit():\n",
    "                numbers[i].append(1)\n",
    "            else:\n",
    "                numbers[i].append(0)\n",
    "    return numbers\n"
   ]
  },
  {
   "cell_type": "code",
   "execution_count": 5,
   "metadata": {},
   "outputs": [],
   "source": [
    "def read_symbols(schematics):\n",
    "    # replace all symbols with 1\n",
    "    symbols = []\n",
    "    for i, line in enumerate(schematics):\n",
    "        symbols.append([])\n",
    "        for j, char in enumerate(line):\n",
    "            if char.isdigit():\n",
    "                symbols[i].append(0)\n",
    "            elif char == \".\":\n",
    "                symbols[i].append(0)\n",
    "            else:\n",
    "                symbols[i].append(1)\n",
    "    return symbols"
   ]
  },
  {
   "cell_type": "code",
   "execution_count": 6,
   "metadata": {},
   "outputs": [],
   "source": [
    "def check_adjacency(numbers, symbols):\n",
    "    adjacent = copy.deepcopy(numbers)\n",
    "    # change all numbers that are adjacent to a symbol to 2\n",
    "    for i, line in enumerate(adjacent):\n",
    "        for j, _num in enumerate(line):\n",
    "            if symbols[i][j] == 1:\n",
    "                # check if there are numbers adjacent\n",
    "                if i > 0:\n",
    "                    if adjacent[i-1][j] == 1:\n",
    "                        adjacent[i-1][j] = 2\n",
    "                if i > 0 and j > 0:\n",
    "                    if adjacent[i-1][j-1] == 1:\n",
    "                        adjacent[i-1][j-1] = 2\n",
    "                if i > 0 and j > 0:\n",
    "                    if adjacent[i][j-1] == 1:\n",
    "                        adjacent[i][j-1] = 2\n",
    "                if i < len(adjacent)-1:\n",
    "                    if adjacent[i+1][j] == 1:\n",
    "                        adjacent[i+1][j] = 2\n",
    "                if j < len(adjacent[0])-1:\n",
    "                    if adjacent[i][j+1] == 1:\n",
    "                        adjacent[i][j+1] = 2\n",
    "                if i < len(adjacent)-1 and j < len(adjacent[0])-1:\n",
    "                    if adjacent[i+1][j+1] == 1:\n",
    "                        adjacent[i+1][j+1] = 2\n",
    "                if i > 0 and j < len(adjacent[0])-1:\n",
    "                    if adjacent[i-1][j+1] == 1:\n",
    "                        adjacent[i-1][j+1] = 2\n",
    "                if i < len(adjacent)-1 and j > 0:\n",
    "                    if adjacent[i+1][j-1] == 1:\n",
    "                        adjacent[i+1][j-1] = 2\n",
    "\n",
    "    return adjacent"
   ]
  },
  {
   "cell_type": "code",
   "execution_count": 7,
   "metadata": {},
   "outputs": [],
   "source": [
    "numbers = read_numbers(schematics)\n",
    "symbols = read_symbols(schematics)\n",
    "\n",
    "adjacent = check_adjacency(numbers, symbols)"
   ]
  },
  {
   "cell_type": "code",
   "execution_count": 8,
   "metadata": {},
   "outputs": [
    {
     "data": {
      "text/plain": [
       "['467..114..',\n",
       " '...*......',\n",
       " '..35..633.',\n",
       " '......#...',\n",
       " '617*......',\n",
       " '.....+.58.',\n",
       " '..592.....',\n",
       " '......755.',\n",
       " '...$.*....',\n",
       " '.664.598..']"
      ]
     },
     "execution_count": 8,
     "metadata": {},
     "output_type": "execute_result"
    }
   ],
   "source": [
    "schematics"
   ]
  },
  {
   "cell_type": "code",
   "execution_count": 9,
   "metadata": {},
   "outputs": [
    {
     "data": {
      "text/plain": [
       "[[1, 1, 1, 0, 0, 1, 1, 1, 0, 0],\n",
       " [0, 0, 0, 0, 0, 0, 0, 0, 0, 0],\n",
       " [0, 0, 1, 1, 0, 0, 1, 1, 1, 0],\n",
       " [0, 0, 0, 0, 0, 0, 0, 0, 0, 0],\n",
       " [1, 1, 1, 0, 0, 0, 0, 0, 0, 0],\n",
       " [0, 0, 0, 0, 0, 0, 0, 1, 1, 0],\n",
       " [0, 0, 1, 1, 1, 0, 0, 0, 0, 0],\n",
       " [0, 0, 0, 0, 0, 0, 1, 1, 1, 0],\n",
       " [0, 0, 0, 0, 0, 0, 0, 0, 0, 0],\n",
       " [0, 1, 1, 1, 0, 1, 1, 1, 0, 0]]"
      ]
     },
     "execution_count": 9,
     "metadata": {},
     "output_type": "execute_result"
    }
   ],
   "source": [
    "numbers"
   ]
  },
  {
   "cell_type": "code",
   "execution_count": 10,
   "metadata": {},
   "outputs": [
    {
     "data": {
      "text/plain": [
       "[[1, 1, 2, 0, 0, 1, 1, 1, 0, 0],\n",
       " [0, 0, 0, 0, 0, 0, 0, 0, 0, 0],\n",
       " [0, 0, 2, 2, 0, 0, 2, 2, 1, 0],\n",
       " [0, 0, 0, 0, 0, 0, 0, 0, 0, 0],\n",
       " [1, 1, 2, 0, 0, 0, 0, 0, 0, 0],\n",
       " [0, 0, 0, 0, 0, 0, 0, 1, 1, 0],\n",
       " [0, 0, 1, 1, 2, 0, 0, 0, 0, 0],\n",
       " [0, 0, 0, 0, 0, 0, 2, 1, 1, 0],\n",
       " [0, 0, 0, 0, 0, 0, 0, 0, 0, 0],\n",
       " [0, 1, 2, 2, 0, 2, 2, 1, 0, 0]]"
      ]
     },
     "execution_count": 10,
     "metadata": {},
     "output_type": "execute_result"
    }
   ],
   "source": [
    "adjacent"
   ]
  },
  {
   "cell_type": "code",
   "execution_count": 11,
   "metadata": {},
   "outputs": [],
   "source": [
    "def pick_engine_parts(schematics, adjacent):\n",
    "    engine_parts = []\n",
    "    for i, line in enumerate(schematics):\n",
    "        number = \"\"\n",
    "        max_score = 0\n",
    "        for j, char in enumerate(line):\n",
    "            if adjacent[i][j] > 0:\n",
    "                number += char\n",
    "                if max_score < adjacent[i][j]:\n",
    "                    max_score = adjacent[i][j]\n",
    "            else:\n",
    "                if max_score == 2:\n",
    "                    engine_parts.append(int(number))\n",
    "                number = \"\"\n",
    "                max_score = 0\n",
    "    return engine_parts"
   ]
  },
  {
   "cell_type": "code",
   "execution_count": 12,
   "metadata": {},
   "outputs": [
    {
     "data": {
      "text/plain": [
       "4361"
      ]
     },
     "execution_count": 12,
     "metadata": {},
     "output_type": "execute_result"
    }
   ],
   "source": [
    "engine_parts = pick_engine_parts(schematics, adjacent)\n",
    "sum(engine_parts)"
   ]
  },
  {
   "cell_type": "code",
   "execution_count": 13,
   "metadata": {},
   "outputs": [],
   "source": [
    "def solve(schematics):\n",
    "    numbers = read_numbers(schematics)\n",
    "    symbols = read_symbols(schematics)\n",
    "    adjacent = check_adjacency(numbers, symbols)\n",
    "    engine_parts = pick_engine_parts(schematics, adjacent)\n",
    "    return sum(engine_parts)"
   ]
  },
  {
   "cell_type": "code",
   "execution_count": 14,
   "metadata": {},
   "outputs": [],
   "source": [
    "with open(\"./data/day03.txt\", \"r\") as f:\n",
    "    schematics = f.read().splitlines()"
   ]
  },
  {
   "cell_type": "code",
   "execution_count": 15,
   "metadata": {},
   "outputs": [
    {
     "data": {
      "text/plain": [
       "140"
      ]
     },
     "execution_count": 15,
     "metadata": {},
     "output_type": "execute_result"
    }
   ],
   "source": [
    "len(schematics)"
   ]
  },
  {
   "cell_type": "code",
   "execution_count": 16,
   "metadata": {},
   "outputs": [
    {
     "data": {
      "text/plain": [
       "528231"
      ]
     },
     "execution_count": 16,
     "metadata": {},
     "output_type": "execute_result"
    }
   ],
   "source": [
    "solve(schematics)"
   ]
  }
 ],
 "metadata": {
  "kernelspec": {
   "display_name": "prospr",
   "language": "python",
   "name": "python3"
  },
  "language_info": {
   "codemirror_mode": {
    "name": "ipython",
    "version": 3
   },
   "file_extension": ".py",
   "mimetype": "text/x-python",
   "name": "python",
   "nbconvert_exporter": "python",
   "pygments_lexer": "ipython3",
   "version": "3.10.6"
  }
 },
 "nbformat": 4,
 "nbformat_minor": 2
}
