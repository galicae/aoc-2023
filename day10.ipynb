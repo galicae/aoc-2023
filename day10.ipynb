{
 "cells": [
  {
   "cell_type": "code",
   "execution_count": 2,
   "metadata": {},
   "outputs": [],
   "source": [
    "def coming_from(prev_x, prev_y, current_x, current_y):\n",
    "    if prev_x < current_x:\n",
    "        return \"up\"\n",
    "    elif prev_y < current_y:\n",
    "        return \"left\"\n",
    "    elif prev_x > current_x:\n",
    "        return \"down\"\n",
    "    else:\n",
    "        return \"right\""
   ]
  },
  {
   "cell_type": "code",
   "execution_count": 4,
   "metadata": {},
   "outputs": [],
   "source": [
    "def next_pos(prev_x, prev_y, x, y, current_symbol):\n",
    "    direction = coming_from(prev_x, prev_y, x, y)\n",
    "\n",
    "    if current_symbol == \"|\":\n",
    "        if direction == \"up\":\n",
    "            return x+1, y\n",
    "        else:\n",
    "            return x-1, y\n",
    "    \n",
    "    if current_symbol == \"-\":\n",
    "        if direction == \"left\":\n",
    "            return x, y+1\n",
    "        else:\n",
    "            return x, y-1\n",
    "    \n",
    "    if current_symbol == \"F\":\n",
    "        if direction == \"down\":\n",
    "            return x, y+1\n",
    "        else:\n",
    "            return x+1, y\n",
    "    \n",
    "    if current_symbol == \"L\":\n",
    "        if direction == \"up\":\n",
    "            return x, y+1\n",
    "        else:\n",
    "            return x-1, y\n",
    "    \n",
    "    if current_symbol == \"J\":\n",
    "        if direction == \"up\":\n",
    "            return x, y-1\n",
    "        else:\n",
    "            return x-1, y\n",
    "        \n",
    "    if current_symbol == \"7\":\n",
    "        if direction == \"down\":\n",
    "            return x, y-1\n",
    "        else:\n",
    "            return x+1, y\n",
    "        \n",
    "    return None, None\n"
   ]
  },
  {
   "cell_type": "code",
   "execution_count": 12,
   "metadata": {},
   "outputs": [],
   "source": [
    "def find_start(sketch):\n",
    "    for i, line in enumerate(sketch):\n",
    "        for j, symbol in enumerate(line):\n",
    "            if symbol == \"S\":\n",
    "                return i, j"
   ]
  },
  {
   "cell_type": "code",
   "execution_count": 21,
   "metadata": {},
   "outputs": [],
   "source": [
    "def find_loop(sketch, start, direction):\n",
    "    walk = []\n",
    "    si, sj = start\n",
    "    walk.append((si, sj))\n",
    "    curr_x, curr_y = -1, -1\n",
    "    if direction == \"right\":\n",
    "        curr_x, curr_y = si, sj+1\n",
    "    elif direction == \"left\":\n",
    "        curr_x, curr_y = si, sj-1\n",
    "    elif direction == \"up\":\n",
    "        curr_x, curr_y = si-1, sj\n",
    "    elif direction == \"down\":\n",
    "        curr_x, curr_y = si+1, sj\n",
    "\n",
    "    prev_x, prev_y = si, sj\n",
    "    while sketch[curr_x][curr_y] != \"S\":\n",
    "        tmp_x, tmp_y = next_pos(prev_x, prev_y, curr_x, curr_y, sketch[curr_x][curr_y])\n",
    "        prev_x = curr_x\n",
    "        prev_y = curr_y\n",
    "        curr_x = tmp_x\n",
    "        curr_y = tmp_y\n",
    "        walk.append((curr_x, curr_y))\n",
    "        \n",
    "        if curr_x is None or curr_y is None:\n",
    "            return None\n",
    "        \n",
    "        if curr_x < 0 or curr_y < 0:\n",
    "            return None\n",
    "        \n",
    "        if sketch[curr_x][curr_y] == \".\":\n",
    "            return None\n",
    "        # print(f\"({prev_x}, {prev_y}) --> ({curr_x}, {curr_y})\")\n",
    "    return walk"
   ]
  },
  {
   "cell_type": "code",
   "execution_count": 32,
   "metadata": {},
   "outputs": [],
   "source": [
    "def map_loop(sketch, start):\n",
    "    for direction in [\"right\", \"left\", \"up\", \"down\"]:\n",
    "        walk = find_loop(sketch, start, direction)\n",
    "        if walk is not None:\n",
    "            return walk\n",
    "        \n",
    "def walk_to_midpoint(sketch):\n",
    "    start = find_start(sketch)\n",
    "    walk = map_loop(sketch, start)\n",
    "    steps_to_midpoint = len(walk) // 2\n",
    "    return steps_to_midpoint"
   ]
  },
  {
   "cell_type": "code",
   "execution_count": 33,
   "metadata": {},
   "outputs": [],
   "source": [
    "test_easy = \"\"\".....\n",
    ".S-7.\n",
    ".|.|.\n",
    ".L-J.\n",
    ".....\"\"\"\n",
    "\n",
    "test_hard = \"\"\"..F7.\n",
    ".FJ|.\n",
    "SJ.L7\n",
    "|F--J\n",
    "LJ...\"\"\""
   ]
  },
  {
   "cell_type": "code",
   "execution_count": 34,
   "metadata": {},
   "outputs": [
    {
     "data": {
      "text/plain": [
       "4"
      ]
     },
     "execution_count": 34,
     "metadata": {},
     "output_type": "execute_result"
    }
   ],
   "source": [
    "walk_to_midpoint(test_easy.split(\"\\n\"))"
   ]
  },
  {
   "cell_type": "code",
   "execution_count": 35,
   "metadata": {},
   "outputs": [
    {
     "data": {
      "text/plain": [
       "8"
      ]
     },
     "execution_count": 35,
     "metadata": {},
     "output_type": "execute_result"
    }
   ],
   "source": [
    "walk_to_midpoint(test_hard.split(\"\\n\"))"
   ]
  },
  {
   "cell_type": "code",
   "execution_count": 39,
   "metadata": {},
   "outputs": [],
   "source": [
    "with open(\"data/day10.txt\", \"r\") as f:\n",
    "    data = [line.strip() for line in f.readlines()]"
   ]
  },
  {
   "cell_type": "code",
   "execution_count": 41,
   "metadata": {},
   "outputs": [
    {
     "data": {
      "text/plain": [
       "6778"
      ]
     },
     "execution_count": 41,
     "metadata": {},
     "output_type": "execute_result"
    }
   ],
   "source": [
    "walk_to_midpoint(data)"
   ]
  },
  {
   "cell_type": "markdown",
   "metadata": {},
   "source": [
    "## part 2"
   ]
  },
  {
   "cell_type": "code",
   "execution_count": 44,
   "metadata": {},
   "outputs": [],
   "source": [
    "def entire_loop(sketch):\n",
    "    start = find_start(sketch)\n",
    "    walk = map_loop(sketch, start)\n",
    "    return walk[:-1]"
   ]
  },
  {
   "cell_type": "code",
   "execution_count": 46,
   "metadata": {},
   "outputs": [],
   "source": [
    "part2_easy = \"\"\"...........\n",
    ".S-------7.\n",
    ".|F-----7|.\n",
    ".||.....||.\n",
    ".||.....||.\n",
    ".|L-7.F-J|.\n",
    ".|..|.|..|.\n",
    ".L--J.L--J.\n",
    "...........\"\"\"\n",
    "\n",
    "part2_hard = \"\"\".F----7F7F7F7F-7....\n",
    ".|F--7||||||||FJ....\n",
    ".||.FJ||||||||L7....\n",
    "FJL7L7LJLJ||LJ.L-7..\n",
    "L--J.L7...LJS7F-7L7.\n",
    "....F-J..F7FJ|L7L7L7\n",
    "....L7.F7||L7|.L7L7|\n",
    ".....|FJLJ|FJ|F7|.LJ\n",
    "....FJL-7.||.||||...\n",
    "....L---J.LJ.LJLJ...\"\"\""
   ]
  },
  {
   "cell_type": "code",
   "execution_count": 47,
   "metadata": {},
   "outputs": [],
   "source": [
    "walk = entire_loop(part2_easy.split(\"\\n\"))"
   ]
  },
  {
   "cell_type": "code",
   "execution_count": 48,
   "metadata": {},
   "outputs": [
    {
     "data": {
      "text/plain": [
       "[(1, 1),\n",
       " (1, 3),\n",
       " (1, 4),\n",
       " (1, 5),\n",
       " (1, 6),\n",
       " (1, 7),\n",
       " (1, 8),\n",
       " (1, 9),\n",
       " (2, 9),\n",
       " (3, 9),\n",
       " (4, 9),\n",
       " (5, 9),\n",
       " (6, 9),\n",
       " (7, 9),\n",
       " (7, 8),\n",
       " (7, 7),\n",
       " (7, 6),\n",
       " (6, 6),\n",
       " (5, 6),\n",
       " (5, 7),\n",
       " (5, 8),\n",
       " (4, 8),\n",
       " (3, 8),\n",
       " (2, 8),\n",
       " (2, 7),\n",
       " (2, 6),\n",
       " (2, 5),\n",
       " (2, 4),\n",
       " (2, 3),\n",
       " (2, 2),\n",
       " (3, 2),\n",
       " (4, 2),\n",
       " (5, 2),\n",
       " (5, 3),\n",
       " (5, 4),\n",
       " (6, 4),\n",
       " (7, 4),\n",
       " (7, 3),\n",
       " (7, 2),\n",
       " (7, 1),\n",
       " (6, 1),\n",
       " (5, 1),\n",
       " (4, 1),\n",
       " (3, 1),\n",
       " (2, 1)]"
      ]
     },
     "execution_count": 48,
     "metadata": {},
     "output_type": "execute_result"
    }
   ],
   "source": [
    "walk"
   ]
  }
 ],
 "metadata": {
  "kernelspec": {
   "display_name": "decode",
   "language": "python",
   "name": "python3"
  },
  "language_info": {
   "codemirror_mode": {
    "name": "ipython",
    "version": 3
   },
   "file_extension": ".py",
   "mimetype": "text/x-python",
   "name": "python",
   "nbconvert_exporter": "python",
   "pygments_lexer": "ipython3",
   "version": "3.11.5"
  }
 },
 "nbformat": 4,
 "nbformat_minor": 2
}
