{
 "cells": [
  {
   "cell_type": "code",
   "execution_count": 1,
   "metadata": {},
   "outputs": [],
   "source": [
    "def read_directions(path):\n",
    "    nodes = {}\n",
    "    with open(path, \"r\") as f:\n",
    "        lines = f.readlines()\n",
    "        directions = lines[0].strip()\n",
    "        for line in lines[2:]:\n",
    "            name, equals, left, right = line.split()\n",
    "            nodes[name] = [left[1:4], right[:3]]\n",
    "    return directions, nodes"
   ]
  },
  {
   "cell_type": "code",
   "execution_count": 2,
   "metadata": {},
   "outputs": [],
   "source": [
    "def go(x):\n",
    "    if x == \"R\":\n",
    "        return 1\n",
    "    elif x == \"L\":\n",
    "        return 0\n",
    "    else:\n",
    "        return None"
   ]
  },
  {
   "cell_type": "code",
   "execution_count": 3,
   "metadata": {},
   "outputs": [],
   "source": [
    "def navigate(nodes, start, stop, directions, steps=0):\n",
    "    current = start\n",
    "    for d in directions:\n",
    "        current = nodes[current][go(d)]\n",
    "        steps += 1\n",
    "        if current == stop:\n",
    "            return steps\n",
    "    return navigate(nodes, current, stop, directions, steps=steps)"
   ]
  },
  {
   "cell_type": "code",
   "execution_count": 4,
   "metadata": {},
   "outputs": [
    {
     "data": {
      "text/plain": [
       "2"
      ]
     },
     "execution_count": 4,
     "metadata": {},
     "output_type": "execute_result"
    }
   ],
   "source": [
    "directions = \"RL\"\n",
    "\n",
    "nodes = {\n",
    "    \"AAA\": [\"BBB\", \"CCC\"],\n",
    "    \"BBB\": [\"DDD\", \"EEE\"],\n",
    "    \"CCC\": [\"ZZZ\", \"GGG\"],\n",
    "    \"DDD\": [\"DDD\", \"DDD\"],\n",
    "    \"EEE\": [\"EEE\", \"EEE\"],\n",
    "    \"GGG\": [\"GGG\", \"GGG\"],\n",
    "    \"ZZZ\": [\"ZZZ\", \"ZZZ\"],\n",
    "}\n",
    "\n",
    "navigate(nodes, \"AAA\", \"ZZZ\", directions)"
   ]
  },
  {
   "cell_type": "code",
   "execution_count": 5,
   "metadata": {},
   "outputs": [
    {
     "data": {
      "text/plain": [
       "6"
      ]
     },
     "execution_count": 5,
     "metadata": {},
     "output_type": "execute_result"
    }
   ],
   "source": [
    "directions = \"LLR\"\n",
    "\n",
    "nodes = {\n",
    "    \"AAA\": [\"BBB\", \"BBB\"],\n",
    "    \"BBB\": [\"AAA\", \"ZZZ\"],\n",
    "    \"ZZZ\": [\"ZZZ\", \"ZZZ\"],\n",
    "}\n",
    "\n",
    "navigate(nodes, \"AAA\", \"ZZZ\", directions)"
   ]
  },
  {
   "cell_type": "code",
   "execution_count": 6,
   "metadata": {},
   "outputs": [],
   "source": [
    "directions, nodes = read_directions(\"data/day08.txt\")"
   ]
  },
  {
   "cell_type": "code",
   "execution_count": 7,
   "metadata": {},
   "outputs": [
    {
     "data": {
      "text/plain": [
       "15871"
      ]
     },
     "execution_count": 7,
     "metadata": {},
     "output_type": "execute_result"
    }
   ],
   "source": [
    "navigate(nodes, \"AAA\", \"ZZZ\", directions)"
   ]
  },
  {
   "cell_type": "markdown",
   "metadata": {},
   "source": [
    "# ghost paths"
   ]
  },
  {
   "cell_type": "code",
   "execution_count": 8,
   "metadata": {},
   "outputs": [],
   "source": [
    "def navigate(nodes, start, stop, directions, steps=0):\n",
    "    current = start\n",
    "    for d in directions:\n",
    "        current = nodes[current][go(d)]\n",
    "        steps += 1\n",
    "        if current.endswith(stop):\n",
    "            return steps\n",
    "    return navigate(nodes, current, stop, directions, steps=steps)"
   ]
  },
  {
   "cell_type": "code",
   "execution_count": 17,
   "metadata": {},
   "outputs": [],
   "source": [
    "nodes = {\n",
    "\"11A\" : (\"11B\", \"XXX\"),\n",
    "\"11B\" : (\"XXX\", \"11Z\"),\n",
    "\"11Z\" : (\"11B\", \"XXX\"),\n",
    "\"22A\" : (\"22B\", \"XXX\"),\n",
    "\"22B\" : (\"22C\", \"22C\"),\n",
    "\"22C\" : (\"22Z\", \"22Z\"),\n",
    "\"22Z\" : (\"22B\", \"22B\"),\n",
    "\"XXX\" : (\"XXX\", \"XXX\"),\n",
    "}\n",
    "\n",
    "directions = \"LR\""
   ]
  },
  {
   "cell_type": "code",
   "execution_count": 19,
   "metadata": {},
   "outputs": [
    {
     "data": {
      "text/plain": [
       "6"
      ]
     },
     "execution_count": 19,
     "metadata": {},
     "output_type": "execute_result"
    }
   ],
   "source": [
    "navigate(nodes, \"11A\", \"Z\", directions), navigate(nodes, \"22A\", \"Z\", directions)\n",
    "lcm(*[2, 3])"
   ]
  },
  {
   "cell_type": "code",
   "execution_count": 20,
   "metadata": {},
   "outputs": [],
   "source": [
    "directions, nodes = read_directions(\"data/day08.txt\")\n",
    "starts = [n for n in nodes if n.endswith(\"A\")]\n",
    "cycles = [navigate(nodes, start, \"Z\", directions) for start in starts]"
   ]
  },
  {
   "cell_type": "code",
   "execution_count": 21,
   "metadata": {},
   "outputs": [],
   "source": [
    "from math import lcm"
   ]
  },
  {
   "cell_type": "code",
   "execution_count": 22,
   "metadata": {},
   "outputs": [
    {
     "data": {
      "text/plain": [
       "11283670395017"
      ]
     },
     "execution_count": 22,
     "metadata": {},
     "output_type": "execute_result"
    }
   ],
   "source": [
    "lcm(*cycles)"
   ]
  }
 ],
 "metadata": {
  "kernelspec": {
   "display_name": "prospr",
   "language": "python",
   "name": "python3"
  },
  "language_info": {
   "codemirror_mode": {
    "name": "ipython",
    "version": 3
   },
   "file_extension": ".py",
   "mimetype": "text/x-python",
   "name": "python",
   "nbconvert_exporter": "python",
   "pygments_lexer": "ipython3",
   "version": "3.10.6"
  }
 },
 "nbformat": 4,
 "nbformat_minor": 2
}
