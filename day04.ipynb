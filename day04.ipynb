{
 "cells": [
  {
   "cell_type": "code",
   "execution_count": 1,
   "metadata": {},
   "outputs": [],
   "source": [
    "winning = {}\n",
    "have = {}\n",
    "with open(\"./data/day04-test.txt\", \"r\") as test:\n",
    "    for line in test.readlines():\n",
    "        card_id = line.split(\":\")[0].split()[1]\n",
    "        winning[card_id] = set(line.split(\":\")[1].split(\"|\")[0].split())\n",
    "        have[card_id] = set(line.split(\":\")[1].split(\"|\")[1].split())"
   ]
  },
  {
   "cell_type": "code",
   "execution_count": 2,
   "metadata": {},
   "outputs": [
    {
     "name": "stdout",
     "output_type": "stream",
     "text": [
      "13\n"
     ]
    }
   ],
   "source": [
    "total_points = 0\n",
    "for card in winning.keys():\n",
    "    intersect = winning[card].intersection(have[card])\n",
    "    if len(intersect) > 0:\n",
    "        total_points += 2**(len(intersect) - 1)\n",
    "\n",
    "print(total_points)"
   ]
  },
  {
   "cell_type": "markdown",
   "metadata": {},
   "source": [
    "## second part - tracking multiplicity"
   ]
  },
  {
   "cell_type": "code",
   "execution_count": 3,
   "metadata": {},
   "outputs": [],
   "source": [
    "winning = {}\n",
    "have = {}\n",
    "multiplicity = {}\n",
    "with open(\"./data/day04-test.txt\", \"r\") as test:\n",
    "    for line in test.readlines():\n",
    "        card_id = int(line.split(\":\")[0].split()[1])\n",
    "        winning[card_id] = set(line.split(\":\")[1].split(\"|\")[0].split())\n",
    "        have[card_id] = set(line.split(\":\")[1].split(\"|\")[1].split())\n",
    "        multiplicity[card_id] = 1"
   ]
  },
  {
   "cell_type": "code",
   "execution_count": 4,
   "metadata": {},
   "outputs": [
    {
     "name": "stdout",
     "output_type": "stream",
     "text": [
      "1 {1: 1, 2: 2, 3: 2, 4: 2, 5: 2, 6: 1}\n",
      "2 {1: 1, 2: 2, 3: 4, 4: 4, 5: 2, 6: 1}\n",
      "3 {1: 1, 2: 2, 3: 4, 4: 8, 5: 6, 6: 1}\n",
      "4 {1: 1, 2: 2, 3: 4, 4: 8, 5: 14, 6: 1}\n",
      "5 {1: 1, 2: 2, 3: 4, 4: 8, 5: 14, 6: 1}\n",
      "6 {1: 1, 2: 2, 3: 4, 4: 8, 5: 14, 6: 1}\n",
      "30\n"
     ]
    }
   ],
   "source": [
    "total_points = 0\n",
    "for card in winning.keys():\n",
    "    intersect = winning[card].intersection(have[card])\n",
    "    for m in range(multiplicity[card]):\n",
    "        for i, _ in enumerate(intersect):\n",
    "            if card + i + 1 not in multiplicity:\n",
    "                continue\n",
    "            multiplicity[card + i + 1] += 1\n",
    "    print(card, multiplicity)\n",
    "    total_points += multiplicity[card]\n",
    "\n",
    "print(total_points)"
   ]
  },
  {
   "cell_type": "code",
   "execution_count": 5,
   "metadata": {},
   "outputs": [],
   "source": [
    "winning = {}\n",
    "have = {}\n",
    "multiplicity = {}\n",
    "with open(\"./data/day04.txt\", \"r\") as test:\n",
    "    for line in test.readlines():\n",
    "        card_id = int(line.split(\":\")[0].split()[1])\n",
    "        winning[card_id] = set(line.split(\":\")[1].split(\"|\")[0].split())\n",
    "        have[card_id] = set(line.split(\":\")[1].split(\"|\")[1].split())\n",
    "        multiplicity[card_id] = 1"
   ]
  },
  {
   "cell_type": "code",
   "execution_count": 6,
   "metadata": {},
   "outputs": [
    {
     "name": "stdout",
     "output_type": "stream",
     "text": [
      "6857330\n"
     ]
    }
   ],
   "source": [
    "total_points = 0\n",
    "for card in winning.keys():\n",
    "    intersect = winning[card].intersection(have[card])\n",
    "    for m in range(multiplicity[card]):\n",
    "        for i, _ in enumerate(intersect):\n",
    "            if card + i + 1 not in multiplicity:\n",
    "                continue\n",
    "            multiplicity[card + i + 1] += 1\n",
    "    # print(card, multiplicity)\n",
    "    total_points += multiplicity[card]\n",
    "\n",
    "print(total_points)"
   ]
  }
 ],
 "metadata": {
  "kernelspec": {
   "display_name": "decode",
   "language": "python",
   "name": "python3"
  },
  "language_info": {
   "codemirror_mode": {
    "name": "ipython",
    "version": 3
   },
   "file_extension": ".py",
   "mimetype": "text/x-python",
   "name": "python",
   "nbconvert_exporter": "python",
   "pygments_lexer": "ipython3",
   "version": "3.11.5"
  }
 },
 "nbformat": 4,
 "nbformat_minor": 2
}
