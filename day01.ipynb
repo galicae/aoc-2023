{
 "cells": [
  {
   "cell_type": "code",
   "execution_count": 12,
   "metadata": {},
   "outputs": [],
   "source": [
    "test_input = \"\"\"1abc2\n",
    "pqr3stu8vwx\n",
    "a1b2c3d4e5f\n",
    "treb7uchet\"\"\""
   ]
  },
  {
   "cell_type": "code",
   "execution_count": 5,
   "metadata": {},
   "outputs": [],
   "source": [
    "def extract_ints(s):\n",
    "    return [c for c in s if c.isdigit()]"
   ]
  },
  {
   "cell_type": "code",
   "execution_count": 13,
   "metadata": {},
   "outputs": [],
   "source": [
    "calibration = []\n",
    "for line in test_input.split(\"\\n\"):\n",
    "    ints = extract_ints(line)\n",
    "    value = int(ints[0] + ints[-1])\n",
    "    calibration.append(value)"
   ]
  },
  {
   "cell_type": "code",
   "execution_count": 14,
   "metadata": {},
   "outputs": [
    {
     "data": {
      "text/plain": [
       "[12, 38, 15, 77]"
      ]
     },
     "execution_count": 14,
     "metadata": {},
     "output_type": "execute_result"
    }
   ],
   "source": [
    "calibration"
   ]
  },
  {
   "cell_type": "code",
   "execution_count": 16,
   "metadata": {},
   "outputs": [
    {
     "data": {
      "text/plain": [
       "55130"
      ]
     },
     "execution_count": 16,
     "metadata": {},
     "output_type": "execute_result"
    }
   ],
   "source": [
    "calibration = []\n",
    "with open(\"data/day01.txt\", \"r\") as data:\n",
    "    for line in data.readlines():\n",
    "        ints = extract_ints(line)\n",
    "        value = int(ints[0] + ints[-1])\n",
    "        calibration.append(value)\n",
    "\n",
    "sum(calibration)"
   ]
  },
  {
   "cell_type": "markdown",
   "metadata": {},
   "source": [
    "## part 2\n",
    "\n",
    "use digit words as digits"
   ]
  },
  {
   "cell_type": "code",
   "execution_count": 18,
   "metadata": {},
   "outputs": [],
   "source": [
    "digits = {\n",
    "    \"one\": \"1\",\n",
    "    \"two\": \"2\",\n",
    "    \"three\": \"3\",\n",
    "    \"four\": \"4\",\n",
    "    \"five\": \"5\",\n",
    "    \"six\": \"6\",\n",
    "    \"seven\": \"7\",\n",
    "    \"eight\": \"8\",\n",
    "    \"nine\": \"9\"\n",
    "}"
   ]
  },
  {
   "cell_type": "code",
   "execution_count": 23,
   "metadata": {},
   "outputs": [],
   "source": [
    "def replace_digits(s, digits):\n",
    "    for word, number in digits.items():\n",
    "        new_word = word[:-1] + number + word[-1:]\n",
    "        s = s.replace(word, new_word)\n",
    "    return s"
   ]
  },
  {
   "cell_type": "code",
   "execution_count": 25,
   "metadata": {},
   "outputs": [
    {
     "data": {
      "text/plain": [
       "54985"
      ]
     },
     "execution_count": 25,
     "metadata": {},
     "output_type": "execute_result"
    }
   ],
   "source": [
    "calibration = []\n",
    "with open(\"data/day01.txt\", \"r\") as data:\n",
    "    for line in data.readlines():\n",
    "        line = replace_digits(line, digits)\n",
    "        ints = extract_ints(line)\n",
    "        value = int(ints[0] + ints[-1])\n",
    "        calibration.append(value)\n",
    "\n",
    "sum(calibration)"
   ]
  },
  {
   "cell_type": "code",
   "execution_count": 24,
   "metadata": {},
   "outputs": [
    {
     "name": "stdout",
     "output_type": "stream",
     "text": [
      "tw2o1nin9e\n",
      "eigh8tw2othre3e\n",
      "abcon1e2thre3exyz\n",
      "xtw2on1e3fou4r\n",
      "4nin9eeigh8tseve7n2\n",
      "zon1eigh8t234\n",
      "7pqrstsi6xteen\n"
     ]
    }
   ],
   "source": [
    "test = \"\"\"two1nine\n",
    "eightwothree\n",
    "abcone2threexyz\n",
    "xtwone3four\n",
    "4nineeightseven2\n",
    "zoneight234\n",
    "7pqrstsixteen\"\"\"\n",
    "\n",
    "for line in test.split(\"\\n\"):\n",
    "    print(replace_digits(line, digits))"
   ]
  }
 ],
 "metadata": {
  "kernelspec": {
   "display_name": "decode",
   "language": "python",
   "name": "python3"
  },
  "language_info": {
   "codemirror_mode": {
    "name": "ipython",
    "version": 3
   },
   "file_extension": ".py",
   "mimetype": "text/x-python",
   "name": "python",
   "nbconvert_exporter": "python",
   "pygments_lexer": "ipython3",
   "version": "3.11.5"
  }
 },
 "nbformat": 4,
 "nbformat_minor": 2
}
