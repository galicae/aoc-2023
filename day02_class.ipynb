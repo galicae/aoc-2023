{
 "cells": [
  {
   "cell_type": "code",
   "execution_count": 1,
   "metadata": {},
   "outputs": [],
   "source": [
    "def game_round(blue, green, red, blue_total, green_total, red_total):\n",
    "    if blue <= blue_total and green <= green_total and red <= red_total:\n",
    "        return True\n",
    "    else:\n",
    "        return False"
   ]
  },
  {
   "cell_type": "code",
   "execution_count": 2,
   "metadata": {},
   "outputs": [
    {
     "data": {
      "text/plain": [
       "True"
      ]
     },
     "execution_count": 2,
     "metadata": {},
     "output_type": "execute_result"
    }
   ],
   "source": [
    "game_round(12, 13, 14, 12, 13, 14)"
   ]
  },
  {
   "cell_type": "markdown",
   "metadata": {},
   "source": [
    "Game 1:\n",
    "- 3 blue, 4 red;\n",
    "- 1 red, 2 green, 6 blue;\n",
    "- 2 green\n"
   ]
  },
  {
   "cell_type": "code",
   "execution_count": 3,
   "metadata": {},
   "outputs": [
    {
     "data": {
      "text/plain": [
       "['6 red', ' 1 blue', ' 3 green']"
      ]
     },
     "execution_count": 3,
     "metadata": {},
     "output_type": "execute_result"
    }
   ],
   "source": [
    "\"6 red, 1 blue, 3 green\".split(\",\")"
   ]
  },
  {
   "cell_type": "code",
   "execution_count": 4,
   "metadata": {},
   "outputs": [],
   "source": [
    "round1 = {\"blue\": 3, \"red\": 4, \"green\": 0}\n",
    "round2 = {\"red\": 1, \"green\": 2, \"blue\": 6}\n",
    "round3 = {\"green\": 2, \"blue\": 0, \"red\": 0}\n",
    "round4 = {\"green\": 2, \"blue\": 20, \"red\": 0}\n",
    "\n",
    "maximum_values = {\"blue\": 12, \"green\": 13, \"red\": 14}"
   ]
  },
  {
   "cell_type": "code",
   "execution_count": 5,
   "metadata": {},
   "outputs": [
    {
     "data": {
      "text/plain": [
       "True"
      ]
     },
     "execution_count": 5,
     "metadata": {},
     "output_type": "execute_result"
    }
   ],
   "source": [
    "# round 1\n",
    "# game_round(blue, green, red, blue_total, green_total, red_total):\n",
    "game_round(round1[\"blue\"], round1[\"green\"], round1[\"red\"],\n",
    "           maximum_values[\"blue\"], maximum_values[\"green\"], maximum_values[\"red\"])"
   ]
  },
  {
   "cell_type": "code",
   "execution_count": 6,
   "metadata": {},
   "outputs": [],
   "source": [
    "game1 = [round1, round2, round3, round4]"
   ]
  },
  {
   "cell_type": "code",
   "execution_count": 7,
   "metadata": {},
   "outputs": [
    {
     "data": {
      "text/plain": [
       "[{'blue': 3, 'red': 4, 'green': 0},\n",
       " {'red': 1, 'green': 2, 'blue': 6},\n",
       " {'green': 2, 'blue': 0, 'red': 0},\n",
       " {'green': 2, 'blue': 20, 'red': 0}]"
      ]
     },
     "execution_count": 7,
     "metadata": {},
     "output_type": "execute_result"
    }
   ],
   "source": [
    "game1"
   ]
  },
  {
   "cell_type": "code",
   "execution_count": 8,
   "metadata": {},
   "outputs": [],
   "source": [
    "def is_game_valid(game):\n",
    "    is_valid = []\n",
    "    for round in game:\n",
    "        current_round = game_round(round[\"blue\"],\n",
    "                                round[\"green\"],\n",
    "                                round[\"red\"],\n",
    "                                maximum_values[\"blue\"],\n",
    "                                maximum_values[\"green\"],\n",
    "                                maximum_values[\"red\"])\n",
    "        is_valid.append(current_round)\n",
    "    game_valid = all(is_valid)\n",
    "    return game_valid"
   ]
  },
  {
   "cell_type": "code",
   "execution_count": 9,
   "metadata": {},
   "outputs": [
    {
     "data": {
      "text/plain": [
       "False"
      ]
     },
     "execution_count": 9,
     "metadata": {},
     "output_type": "execute_result"
    }
   ],
   "source": [
    "is_game_valid(game1)"
   ]
  }
 ],
 "metadata": {
  "kernelspec": {
   "display_name": "decode",
   "language": "python",
   "name": "python3"
  },
  "language_info": {
   "codemirror_mode": {
    "name": "ipython",
    "version": 3
   },
   "file_extension": ".py",
   "mimetype": "text/x-python",
   "name": "python",
   "nbconvert_exporter": "python",
   "pygments_lexer": "ipython3",
   "version": "3.11.5"
  }
 },
 "nbformat": 4,
 "nbformat_minor": 2
}
