{
 "cells": [
  {
   "cell_type": "code",
   "execution_count": 1,
   "metadata": {},
   "outputs": [],
   "source": [
    "from tqdm import tqdm"
   ]
  },
  {
   "cell_type": "code",
   "execution_count": 2,
   "metadata": {},
   "outputs": [],
   "source": [
    "def read_input(file_loc):\n",
    "    with open(file_loc, \"r\") as puzzle_input:\n",
    "        puzzle_input = puzzle_input.read().splitlines()\n",
    "        \n",
    "        current_map = \"\"\n",
    "\n",
    "        maps = {}\n",
    "\n",
    "        for line in puzzle_input:\n",
    "            if line.startswith(\"seeds\"):\n",
    "                seeds = line.split(\": \")[1].strip().split()\n",
    "                seeds = [int(x) for x in seeds]\n",
    "            elif line == \"\":\n",
    "                continue\n",
    "            elif line[0].isdigit():\n",
    "                numbers = [int(x) for x in line.strip().split()]\n",
    "                maps[current_map].append(numbers)\n",
    "            elif line[0].isalpha():\n",
    "                current_map = line.strip().split()[0]\n",
    "                maps[current_map] = []\n",
    "            else:\n",
    "                continue\n",
    "    return seeds, maps"
   ]
  },
  {
   "cell_type": "code",
   "execution_count": 3,
   "metadata": {},
   "outputs": [],
   "source": [
    "MAP_ORDER = [\n",
    "    \"seed-to-soil\",\n",
    "    \"soil-to-fertilizer\",\n",
    "    \"fertilizer-to-water\",\n",
    "    \"water-to-light\",\n",
    "    \"light-to-temperature\",\n",
    "    \"temperature-to-humidity\",\n",
    "    \"humidity-to-location\"\n",
    "]"
   ]
  },
  {
   "cell_type": "code",
   "execution_count": 4,
   "metadata": {},
   "outputs": [],
   "source": [
    "def pipe(source_values, map_):\n",
    "    dest_values = []\n",
    "    for source_value in tqdm(source_values):\n",
    "        dest_value = None\n",
    "        for line in map_:\n",
    "            dest, source, steps = line\n",
    "            if source_value >= source and source_value < source+steps:\n",
    "                dest_value = dest + (source_value - source)\n",
    "                # print(f\"{source_value} -> {dest_value}\")\n",
    "                dest_values.append(dest_value)\n",
    "                break\n",
    "        if dest_value is None:\n",
    "            dest_values.append(source_value)\n",
    "            # print(f\"{source_value} -> {source_value}\")\n",
    "    return dest_values"
   ]
  },
  {
   "cell_type": "code",
   "execution_count": 5,
   "metadata": {},
   "outputs": [
    {
     "name": "stdout",
     "output_type": "stream",
     "text": [
      "mapping with seed-to-soil\n"
     ]
    },
    {
     "name": "stderr",
     "output_type": "stream",
     "text": [
      "100%|██████████| 4/4 [00:00<00:00, 76959.71it/s]\n"
     ]
    },
    {
     "name": "stdout",
     "output_type": "stream",
     "text": [
      "mapping with soil-to-fertilizer\n"
     ]
    },
    {
     "name": "stderr",
     "output_type": "stream",
     "text": [
      "100%|██████████| 4/4 [00:00<00:00, 125203.10it/s]\n"
     ]
    },
    {
     "name": "stdout",
     "output_type": "stream",
     "text": [
      "mapping with fertilizer-to-water\n"
     ]
    },
    {
     "name": "stderr",
     "output_type": "stream",
     "text": [
      "100%|██████████| 4/4 [00:00<00:00, 199728.76it/s]\n"
     ]
    },
    {
     "name": "stdout",
     "output_type": "stream",
     "text": [
      "mapping with water-to-light\n"
     ]
    },
    {
     "name": "stderr",
     "output_type": "stream",
     "text": [
      "100%|██████████| 4/4 [00:00<00:00, 49932.19it/s]\n"
     ]
    },
    {
     "name": "stdout",
     "output_type": "stream",
     "text": [
      "mapping with light-to-temperature\n"
     ]
    },
    {
     "name": "stderr",
     "output_type": "stream",
     "text": [
      "100%|██████████| 4/4 [00:00<00:00, 121574.03it/s]\n"
     ]
    },
    {
     "name": "stdout",
     "output_type": "stream",
     "text": [
      "mapping with temperature-to-humidity\n"
     ]
    },
    {
     "name": "stderr",
     "output_type": "stream",
     "text": [
      "100%|██████████| 4/4 [00:00<00:00, 199728.76it/s]\n"
     ]
    },
    {
     "name": "stdout",
     "output_type": "stream",
     "text": [
      "mapping with humidity-to-location\n"
     ]
    },
    {
     "name": "stderr",
     "output_type": "stream",
     "text": [
      "100%|██████████| 4/4 [00:00<00:00, 166111.05it/s]"
     ]
    },
    {
     "name": "stdout",
     "output_type": "stream",
     "text": [
      "[82, 43, 86, 35]\n"
     ]
    },
    {
     "name": "stderr",
     "output_type": "stream",
     "text": [
      "\n"
     ]
    }
   ],
   "source": [
    "seeds, maps = read_input(\"data/day05-test.txt\")\n",
    "for map_ in MAP_ORDER:\n",
    "    print(f\"mapping with {map_}\")\n",
    "    seeds = pipe(seeds, maps[map_])\n",
    "print(seeds)"
   ]
  },
  {
   "cell_type": "code",
   "execution_count": 6,
   "metadata": {},
   "outputs": [
    {
     "name": "stdout",
     "output_type": "stream",
     "text": [
      "mapping with seed-to-soil\n"
     ]
    },
    {
     "name": "stderr",
     "output_type": "stream",
     "text": [
      "100%|██████████| 20/20 [00:00<00:00, 476625.45it/s]\n"
     ]
    },
    {
     "name": "stdout",
     "output_type": "stream",
     "text": [
      "mapping with soil-to-fertilizer\n"
     ]
    },
    {
     "name": "stderr",
     "output_type": "stream",
     "text": [
      "100%|██████████| 20/20 [00:00<00:00, 527585.41it/s]\n"
     ]
    },
    {
     "name": "stdout",
     "output_type": "stream",
     "text": [
      "mapping with fertilizer-to-water\n"
     ]
    },
    {
     "name": "stderr",
     "output_type": "stream",
     "text": [
      "100%|██████████| 20/20 [00:00<00:00, 390167.81it/s]\n"
     ]
    },
    {
     "name": "stdout",
     "output_type": "stream",
     "text": [
      "mapping with water-to-light\n"
     ]
    },
    {
     "name": "stderr",
     "output_type": "stream",
     "text": [
      "100%|██████████| 20/20 [00:00<00:00, 399457.52it/s]\n"
     ]
    },
    {
     "name": "stdout",
     "output_type": "stream",
     "text": [
      "mapping with light-to-temperature\n"
     ]
    },
    {
     "name": "stderr",
     "output_type": "stream",
     "text": [
      "100%|██████████| 20/20 [00:00<00:00, 423667.07it/s]\n"
     ]
    },
    {
     "name": "stdout",
     "output_type": "stream",
     "text": [
      "mapping with temperature-to-humidity\n"
     ]
    },
    {
     "name": "stderr",
     "output_type": "stream",
     "text": [
      "100%|██████████| 20/20 [00:00<00:00, 419430.40it/s]\n"
     ]
    },
    {
     "name": "stdout",
     "output_type": "stream",
     "text": [
      "mapping with humidity-to-location\n"
     ]
    },
    {
     "name": "stderr",
     "output_type": "stream",
     "text": [
      "100%|██████████| 20/20 [00:00<00:00, 496367.34it/s]"
     ]
    },
    {
     "name": "stdout",
     "output_type": "stream",
     "text": [
      "[522761994, 1669264475, 1994231379, 1646553585, 876486655, 2502514616, 280278922, 2482052341, 3990263023, 2737734226, 1813446793, 218513636, 3367560261, 2500384090, 2459750215, 3090063388, 4002673505, 3137354224, 3071107355, 1137359212]\n"
     ]
    },
    {
     "name": "stderr",
     "output_type": "stream",
     "text": [
      "\n"
     ]
    }
   ],
   "source": [
    "seeds, maps = read_input(\"data/day05.txt\")\n",
    "for map_ in MAP_ORDER:\n",
    "    print(f\"mapping with {map_}\")\n",
    "    seeds = pipe(seeds, maps[map_])\n",
    "print(seeds)"
   ]
  },
  {
   "cell_type": "code",
   "execution_count": 7,
   "metadata": {},
   "outputs": [
    {
     "data": {
      "text/plain": [
       "218513636"
      ]
     },
     "execution_count": 7,
     "metadata": {},
     "output_type": "execute_result"
    }
   ],
   "source": [
    "min(seeds)"
   ]
  },
  {
   "cell_type": "code",
   "execution_count": 8,
   "metadata": {},
   "outputs": [],
   "source": [
    "def expand_seeds(seeds):\n",
    "    print(\"expanding...\")\n",
    "    seed_range = seeds[1::2]\n",
    "    seed_starts = seeds[::2]\n",
    "\n",
    "    new_seeds = []\n",
    "    for s, r in zip(seed_starts, seed_range):\n",
    "        for i in tqdm(range(r)):\n",
    "            new_seeds.append(s+i)\n",
    "\n",
    "    return list(set(new_seeds))"
   ]
  },
  {
   "cell_type": "code",
   "execution_count": 9,
   "metadata": {},
   "outputs": [
    {
     "name": "stdout",
     "output_type": "stream",
     "text": [
      "expanding...\n"
     ]
    },
    {
     "name": "stderr",
     "output_type": "stream",
     "text": [
      "100%|██████████| 14/14 [00:00<00:00, 434964.86it/s]\n",
      "100%|██████████| 13/13 [00:00<00:00, 436207.62it/s]\n"
     ]
    },
    {
     "name": "stdout",
     "output_type": "stream",
     "text": [
      "mapping with seed-to-soil\n"
     ]
    },
    {
     "name": "stderr",
     "output_type": "stream",
     "text": [
      "100%|██████████| 27/27 [00:00<00:00, 586767.92it/s]\n"
     ]
    },
    {
     "name": "stdout",
     "output_type": "stream",
     "text": [
      "mapping with soil-to-fertilizer\n"
     ]
    },
    {
     "name": "stderr",
     "output_type": "stream",
     "text": [
      "100%|██████████| 27/27 [00:00<00:00, 674084.57it/s]\n"
     ]
    },
    {
     "name": "stdout",
     "output_type": "stream",
     "text": [
      "mapping with fertilizer-to-water\n"
     ]
    },
    {
     "name": "stderr",
     "output_type": "stream",
     "text": [
      "100%|██████████| 27/27 [00:00<00:00, 791931.52it/s]\n"
     ]
    },
    {
     "name": "stdout",
     "output_type": "stream",
     "text": [
      "mapping with water-to-light\n"
     ]
    },
    {
     "name": "stderr",
     "output_type": "stream",
     "text": [
      "100%|██████████| 27/27 [00:00<00:00, 791931.52it/s]\n"
     ]
    },
    {
     "name": "stdout",
     "output_type": "stream",
     "text": [
      "mapping with light-to-temperature\n"
     ]
    },
    {
     "name": "stderr",
     "output_type": "stream",
     "text": [
      "100%|██████████| 27/27 [00:00<00:00, 959713.63it/s]\n"
     ]
    },
    {
     "name": "stdout",
     "output_type": "stream",
     "text": [
      "mapping with temperature-to-humidity\n"
     ]
    },
    {
     "name": "stderr",
     "output_type": "stream",
     "text": [
      "100%|██████████| 27/27 [00:00<00:00, 1002178.83it/s]\n"
     ]
    },
    {
     "name": "stdout",
     "output_type": "stream",
     "text": [
      "mapping with humidity-to-location\n"
     ]
    },
    {
     "name": "stderr",
     "output_type": "stream",
     "text": [
      "100%|██████████| 27/27 [00:00<00:00, 864474.87it/s]"
     ]
    },
    {
     "name": "stdout",
     "output_type": "stream",
     "text": [
      "[86, 87, 88, 89, 94, 95, 96, 56, 57, 58, 59, 97, 98, 82, 83, 84, 46, 47, 48, 49, 50, 51, 52, 53, 54, 55, 60]\n"
     ]
    },
    {
     "name": "stderr",
     "output_type": "stream",
     "text": [
      "\n"
     ]
    },
    {
     "data": {
      "text/plain": [
       "46"
      ]
     },
     "execution_count": 9,
     "metadata": {},
     "output_type": "execute_result"
    }
   ],
   "source": [
    "seeds, maps = read_input(\"data/day05-test.txt\")\n",
    "new_seeds = expand_seeds(seeds)\n",
    "for map_ in MAP_ORDER:\n",
    "    print(f\"mapping with {map_}\")\n",
    "    new_seeds = pipe(new_seeds, maps[map_])\n",
    "print(new_seeds)\n",
    "min(new_seeds)"
   ]
  },
  {
   "cell_type": "code",
   "execution_count": 10,
   "metadata": {},
   "outputs": [
    {
     "name": "stdout",
     "output_type": "stream",
     "text": [
      "expanding...\n"
     ]
    },
    {
     "name": "stderr",
     "output_type": "stream",
     "text": [
      "100%|██████████| 109160474/109160474 [00:09<00:00, 11774510.68it/s]\n",
      "100%|██████████| 86449584/86449584 [00:07<00:00, 11604785.74it/s]\n",
      "100%|██████████| 205205726/205205726 [00:17<00:00, 11617748.24it/s]\n",
      "100%|██████████| 184743451/184743451 [00:15<00:00, 11554731.65it/s]\n",
      "100%|██████████| 17148151/17148151 [00:01<00:00, 11156129.28it/s]\n",
      "100%|██████████| 40401857/40401857 [00:03<00:00, 12754045.43it/s]\n",
      "100%|██████████| 203075200/203075200 [00:18<00:00, 10807306.93it/s]\n",
      "100%|██████████| 131147346/131147346 [00:10<00:00, 12548794.19it/s]\n",
      "100%|██████████| 538526744/538526744 [00:48<00:00, 11155869.30it/s]\n",
      "100%|██████████| 705979250/705979250 [00:55<00:00, 12776265.43it/s]\n"
     ]
    },
    {
     "ename": "KeyboardInterrupt",
     "evalue": "",
     "output_type": "error",
     "traceback": [
      "\u001b[0;31m---------------------------------------------------------------------------\u001b[0m",
      "\u001b[0;31mKeyboardInterrupt\u001b[0m                         Traceback (most recent call last)",
      "\u001b[1;32m/Users/npapadop/Documents/repos/aoc-2023/day05.ipynb Cell 10\u001b[0m line \u001b[0;36m2\n\u001b[1;32m      <a href='vscode-notebook-cell:/Users/npapadop/Documents/repos/aoc-2023/day05.ipynb#X33sZmlsZQ%3D%3D?line=0'>1</a>\u001b[0m seeds, maps \u001b[39m=\u001b[39m read_input(\u001b[39m\"\u001b[39m\u001b[39mdata/day05.txt\u001b[39m\u001b[39m\"\u001b[39m)\n\u001b[0;32m----> <a href='vscode-notebook-cell:/Users/npapadop/Documents/repos/aoc-2023/day05.ipynb#X33sZmlsZQ%3D%3D?line=1'>2</a>\u001b[0m new_seeds \u001b[39m=\u001b[39m expand_seeds(seeds)\n\u001b[1;32m      <a href='vscode-notebook-cell:/Users/npapadop/Documents/repos/aoc-2023/day05.ipynb#X33sZmlsZQ%3D%3D?line=2'>3</a>\u001b[0m \u001b[39mfor\u001b[39;00m map_ \u001b[39min\u001b[39;00m MAP_ORDER:\n\u001b[1;32m      <a href='vscode-notebook-cell:/Users/npapadop/Documents/repos/aoc-2023/day05.ipynb#X33sZmlsZQ%3D%3D?line=3'>4</a>\u001b[0m     \u001b[39mprint\u001b[39m(\u001b[39mf\u001b[39m\u001b[39m\"\u001b[39m\u001b[39mmapping with \u001b[39m\u001b[39m{\u001b[39;00mmap_\u001b[39m}\u001b[39;00m\u001b[39m\"\u001b[39m)\n",
      "\u001b[1;32m/Users/npapadop/Documents/repos/aoc-2023/day05.ipynb Cell 10\u001b[0m line \u001b[0;36m1\n\u001b[1;32m      <a href='vscode-notebook-cell:/Users/npapadop/Documents/repos/aoc-2023/day05.ipynb#X33sZmlsZQ%3D%3D?line=7'>8</a>\u001b[0m     \u001b[39mfor\u001b[39;00m i \u001b[39min\u001b[39;00m tqdm(\u001b[39mrange\u001b[39m(r)):\n\u001b[1;32m      <a href='vscode-notebook-cell:/Users/npapadop/Documents/repos/aoc-2023/day05.ipynb#X33sZmlsZQ%3D%3D?line=8'>9</a>\u001b[0m         new_seeds\u001b[39m.\u001b[39mappend(s\u001b[39m+\u001b[39mi)\n\u001b[0;32m---> <a href='vscode-notebook-cell:/Users/npapadop/Documents/repos/aoc-2023/day05.ipynb#X33sZmlsZQ%3D%3D?line=10'>11</a>\u001b[0m \u001b[39mreturn\u001b[39;00m \u001b[39mlist\u001b[39m(\u001b[39mset\u001b[39m(new_seeds))\n",
      "\u001b[0;31mKeyboardInterrupt\u001b[0m: "
     ]
    }
   ],
   "source": [
    "seeds, maps = read_input(\"data/day05.txt\")\n",
    "new_seeds = expand_seeds(seeds)\n",
    "for map_ in MAP_ORDER:\n",
    "    print(f\"mapping with {map_}\")\n",
    "    new_seeds = pipe(new_seeds, maps[map_])\n",
    "print(new_seeds)\n",
    "min(new_seeds)"
   ]
  }
 ],
 "metadata": {
  "kernelspec": {
   "display_name": "decode",
   "language": "python",
   "name": "python3"
  },
  "language_info": {
   "codemirror_mode": {
    "name": "ipython",
    "version": 3
   },
   "file_extension": ".py",
   "mimetype": "text/x-python",
   "name": "python",
   "nbconvert_exporter": "python",
   "pygments_lexer": "ipython3",
   "version": "3.11.5"
  }
 },
 "nbformat": 4,
 "nbformat_minor": 2
}
