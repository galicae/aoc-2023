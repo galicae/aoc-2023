{
 "cells": [
  {
   "cell_type": "code",
   "execution_count": 1,
   "metadata": {},
   "outputs": [],
   "source": [
    "def read_input(file_loc):\n",
    "    with open(file_loc, \"r\") as puzzle_input:\n",
    "        puzzle_input = puzzle_input.read().splitlines()\n",
    "        \n",
    "        current_map = \"\"\n",
    "\n",
    "        maps = {}\n",
    "\n",
    "        for line in puzzle_input:\n",
    "            if line.startswith(\"seeds\"):\n",
    "                seeds = line.split(\": \")[1].strip().split()\n",
    "                seeds = [int(x) for x in seeds]\n",
    "            elif line == \"\":\n",
    "                continue\n",
    "            elif line[0].isdigit():\n",
    "                numbers = [int(x) for x in line.strip().split()]\n",
    "                maps[current_map][\"input\"].append(numbers)\n",
    "            elif line[0].isalpha():\n",
    "                current_map = line.strip().split()[0]\n",
    "                maps[current_map] = {}\n",
    "                maps[current_map][\"input\"] = []\n",
    "            else:\n",
    "                continue\n",
    "    return seeds, maps"
   ]
  },
  {
   "cell_type": "code",
   "execution_count": 2,
   "metadata": {},
   "outputs": [],
   "source": [
    "def initialize(map_, min_index=0, max_index=100):\n",
    "    for i in range(min_index, max_index+1, 1):\n",
    "        map_[i] = i\n",
    "    for line in map_[\"input\"]:\n",
    "        dest, source, steps = line\n",
    "        for i in range(steps):\n",
    "            map_[source+i] = dest+i"
   ]
  },
  {
   "cell_type": "code",
   "execution_count": 3,
   "metadata": {},
   "outputs": [],
   "source": [
    "MAP_ORDER = [\n",
    "    \"seed-to-soil\",\n",
    "    \"soil-to-fertilizer\",\n",
    "    \"fertilizer-to-water\",\n",
    "    \"water-to-light\",\n",
    "    \"light-to-temperature\",\n",
    "    \"temperature-to-humidity\",\n",
    "    \"humidity-to-location\"\n",
    "]"
   ]
  },
  {
   "cell_type": "code",
   "execution_count": 4,
   "metadata": {},
   "outputs": [],
   "source": [
    "def min_max(array):\n",
    "    return min(array), max(array)\n",
    "\n",
    "def pipe(source_values, map_):\n",
    "    dest_values = []\n",
    "    for source_value in source_values:\n",
    "        dest_value = map_[source_value]\n",
    "        dest_values.append(dest_value)\n",
    "    return dest_values"
   ]
  },
  {
   "cell_type": "code",
   "execution_count": 5,
   "metadata": {},
   "outputs": [
    {
     "name": "stdout",
     "output_type": "stream",
     "text": [
      "[82, 43, 86, 35]\n"
     ]
    }
   ],
   "source": [
    "seeds, maps = read_input(\"data/day05-test.txt\")\n",
    "seeds_new = [x for x in seeds]\n",
    "for map_ in MAP_ORDER:\n",
    "    vmin, vmax = min_max(seeds)\n",
    "    # print(vmin, vmax)\n",
    "    initialize(maps[map_], min_index=vmin, max_index=vmax)\n",
    "    seeds = pipe(seeds, maps[map_])\n",
    "print(seeds)"
   ]
  },
  {
   "cell_type": "code",
   "execution_count": 6,
   "metadata": {},
   "outputs": [],
   "source": [
    "seeds, maps = read_input(\"data/day05.txt\")\n",
    "seeds_new = [x for x in seeds]\n",
    "for map_ in MAP_ORDER:\n",
    "    vmin, vmax = min_max(seeds)\n",
    "    # print(vmin, vmax)\n",
    "    initialize(maps[map_], min_index=vmin, max_index=vmax)\n",
    "    seeds = pipe(seeds, maps[map_])\n",
    "print(seeds)"
   ]
  }
 ],
 "metadata": {
  "kernelspec": {
   "display_name": "decode",
   "language": "python",
   "name": "python3"
  },
  "language_info": {
   "codemirror_mode": {
    "name": "ipython",
    "version": 3
   },
   "file_extension": ".py",
   "mimetype": "text/x-python",
   "name": "python",
   "nbconvert_exporter": "python",
   "pygments_lexer": "ipython3",
   "version": "3.11.5"
  }
 },
 "nbformat": 4,
 "nbformat_minor": 2
}
